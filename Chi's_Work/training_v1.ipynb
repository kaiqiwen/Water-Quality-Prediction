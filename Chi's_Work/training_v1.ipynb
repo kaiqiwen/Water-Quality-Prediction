{
 "cells": [
  {
   "cell_type": "code",
   "execution_count": 178,
   "metadata": {},
   "outputs": [
    {
     "name": "stdout",
     "output_type": "stream",
     "text": [
      "Keys in the .mat file: dict_keys(['__header__', '__version__', '__globals__', 'X_tr', 'X_te', 'Y_tr', 'Y_te', 'location_group', 'features', 'location_ids'])\n",
      "Water indices (features): ['Specific conductance, water, unfiltered, microsiemens per centimeter at 25 degrees Celsius (Maximum)', 'pH, water, unfiltered, field, standard units (Maximum)', 'pH, water, unfiltered, field, standard units (Minimum)', 'Specific conductance, water, unfiltered, microsiemens per centimeter at 25 degrees Celsius (Minimum)', 'Specific conductance, water, unfiltered, microsiemens per centimeter at 25 degrees Celsius (Mean)', 'Dissolved oxygen, water, unfiltered, milligrams per liter (Maximum)', 'Dissolved oxygen, water, unfiltered, milligrams per liter (Mean)', 'Dissolved oxygen, water, unfiltered, milligrams per liter (Minimum)', 'Temperature, water, degrees Celsius (Mean)', 'Temperature, water, degrees Celsius (Minimum)', 'Temperature, water, degrees Celsius (Maximum)']\n",
      "Location IDs: [  2198840   2198920   2198950   2203603   2203655   2203700   2203831\n",
      "   2203863   2203873   2203900   2203950   2203960   2204037   2207135\n",
      "   2207160   2208450   2208493   2336120   2336152   2336240   2336300\n",
      "   2336313   2336340   2336360   2336410   2336526   2336728   2337170\n",
      "   2344630   2344673  21989715  21989773  21989792  21989793  22035975\n",
      "  23362095 219897945]\n",
      "X_tr shape: (1, 423)\n",
      "X_te shape: (1, 282)\n",
      "Shape of first training sample: (37, 11)\n",
      "Number of training days: 423\n",
      "Number of testing days: 282\n",
      "Y_tr shape (water quality for training): (37, 423)\n",
      "Y_te shape (water quality for testing): (37, 282)\n",
      "Training water quality data (first 5 rows):\n",
      "              0         1         2         3         4         5         6    \\\n",
      "2198840  0.648148  0.648148  0.648148  0.648148  0.648148  0.638889  0.638889   \n",
      "2198920  0.648148  0.648148  0.638889  0.648148  0.638889  0.638889  0.638889   \n",
      "2198950  0.648148  0.648148  0.648148  0.648148  0.648148  0.648148  0.648148   \n",
      "2203603  0.638889  0.638889  0.657407  0.657407  0.675926  0.666667  0.666667   \n",
      "2203655  0.648148  0.657407  0.666667  0.657407  0.666667  0.666667  0.666667   \n",
      "\n",
      "              7         8         9    ...       413       414       415  \\\n",
      "2198840  0.638889  0.638889  0.629630  ...  0.666667  0.666667  0.666667   \n",
      "2198920  0.638889  0.629630  0.638889  ...  0.722222  0.722222  0.722222   \n",
      "2198950  0.648148  0.638889  0.638889  ...  0.712963  0.712963  0.703704   \n",
      "2203603  0.666667  0.648148  0.657407  ...  0.722222  0.722222  0.722222   \n",
      "2203655  0.657407  0.666667  0.657407  ...  0.722222  0.722222  0.722222   \n",
      "\n",
      "              416       417       418       419       420       421       422  \n",
      "2198840  0.666667  0.666667  0.666667  0.666667  0.666667  0.666667  0.666667  \n",
      "2198920  0.722222  0.722222  0.712963  0.722222  0.722222  0.712963  0.712963  \n",
      "2198950  0.703704  0.703704  0.694444  0.712963  0.722222  0.703704  0.703704  \n",
      "2203603  0.722222  0.731481  0.722222  0.731481  0.731481  0.712963  0.712963  \n",
      "2203655  0.722222  0.722222  0.712963  0.722222  0.722222  0.712963  0.712963  \n",
      "\n",
      "[5 rows x 423 columns]\n",
      "Testing water quality data (first 5 rows):\n",
      "              0         1         2         3         4         5         6    \\\n",
      "2198840  0.666667  0.666667  0.657407  0.657407  0.657407  0.657407  0.657407   \n",
      "2198920  0.712963  0.712963  0.712963  0.712963  0.712963  0.703704  0.703704   \n",
      "2198950  0.703704  0.703704  0.703704  0.703704  0.703704  0.703704  0.685185   \n",
      "2203603  0.712963  0.712963  0.712963  0.712963  0.712963  0.712963  0.703704   \n",
      "2203655  0.712963  0.712963  0.712963  0.712963  0.712963  0.703704  0.703704   \n",
      "\n",
      "              7         8         9    ...       272       273       274  \\\n",
      "2198840  0.657407  0.657407  0.657407  ...  0.666667  0.666667  0.666667   \n",
      "2198920  0.703704  0.694444  0.694444  ...  0.712963  0.712963  0.722222   \n",
      "2198950  0.694444  0.685185  0.685185  ...  0.703704  0.703704  0.722222   \n",
      "2203603  0.703704  0.703704  0.703704  ...  0.703704  0.712963  0.722222   \n",
      "2203655  0.703704  0.703704  0.703704  ...  0.685185  0.685185  0.685185   \n",
      "\n",
      "              275       276       277       278       279       280       281  \n",
      "2198840  0.666667  0.666667  0.666667  0.666667  0.675926  0.675926  0.675926  \n",
      "2198920  0.740741  0.731481  0.722222  0.722222  0.722222  0.722222  0.722222  \n",
      "2198950  0.722222  0.722222  0.722222  0.712963  0.722222  0.712963  0.722222  \n",
      "2203603  0.722222  0.722222  0.722222  0.722222  0.712963  0.712963  0.712963  \n",
      "2203655  0.685185  0.703704  0.703704  0.694444  0.694444  0.694444  0.694444  \n",
      "\n",
      "[5 rows x 282 columns]\n"
     ]
    }
   ],
   "source": [
    "import scipy.io as sio\n",
    "import numpy as np\n",
    "import pandas as pd\n",
    "\n",
    "# Load the .mat file\n",
    "mat_data = sio.loadmat('water_dataset.mat')\n",
    "\n",
    "# Print the keys to see the variables available\n",
    "print(\"Keys in the .mat file:\", mat_data.keys())\n",
    "\n",
    "# Extract variables as described in the README\n",
    "features = mat_data['features']         # list of water indices (1 x 11 array of strings)\n",
    "location_ids = mat_data['location_ids']   # (37 x 1) array of water station IDs\n",
    "X_tr = mat_data['X_tr']                   # training set input data: (1 x 423) array, each element is 37x11 matrix\n",
    "X_te = mat_data['X_te']                   # test set input data: (1 x 282) array, each element is 37x11 matrix\n",
    "Y_tr = mat_data['Y_tr']                   # training set output data: (37 x 423) matrix\n",
    "Y_te = mat_data['Y_te']                   # test set output data: (37 x 282) matrix\n",
    "location_group = mat_data['location_group']  # grouping info for water stations\n",
    "\n",
    "# Inspect the features array (water indices)\n",
    "# Depending on how the strings are stored, you may need to decode bytes if necessary.\n",
    "features_list = [str(feat[0]) for feat in features[0]]\n",
    "print(\"Water indices (features):\", features_list)\n",
    "\n",
    "# Flatten location_ids to a 1D array and print\n",
    "location_ids = location_ids.flatten()\n",
    "print(\"Location IDs:\", location_ids)\n",
    "\n",
    "# X_tr and X_te are stored as a 1 x N cell array, where each cell is a 37x11 matrix.\n",
    "# Let's check their shapes and extract one example.\n",
    "print(\"X_tr shape:\", X_tr.shape)\n",
    "print(\"X_te shape:\", X_te.shape)\n",
    "# Example: Print shape of the first training example (should be 37 x 11)\n",
    "print(\"Shape of first training sample:\", X_tr[0, 0].shape)\n",
    "\n",
    "# Convert X_tr and X_te into Python lists for easier handling\n",
    "X_tr_list = [X_tr[0, i] for i in range(X_tr.shape[1])]\n",
    "X_te_list = [X_te[0, i] for i in range(X_te.shape[1])]\n",
    "\n",
    "# Optionally, you can check the number of training and testing days\n",
    "print(\"Number of training days:\", len(X_tr_list))\n",
    "print(\"Number of testing days:\", len(X_te_list))\n",
    "\n",
    "# Y_tr and Y_te are already stored as matrices.\n",
    "print(\"Y_tr shape (water quality for training):\", Y_tr.shape)  # Expected: (37, 423)\n",
    "print(\"Y_te shape (water quality for testing):\", Y_te.shape)   # Expected: (37, 282)\n",
    "\n",
    "# If desired, you can convert Y_tr and Y_te to DataFrames (e.g., each row corresponds to a water station)\n",
    "Y_tr_df = pd.DataFrame(Y_tr, index=location_ids)\n",
    "Y_te_df = pd.DataFrame(Y_te, index=location_ids)\n",
    "\n",
    "print(\"Training water quality data (first 5 rows):\")\n",
    "print(Y_tr_df.head())\n",
    "\n",
    "print(\"Testing water quality data (first 5 rows):\")\n",
    "print(Y_te_df.head())\n"
   ]
  },
  {
   "cell_type": "code",
   "execution_count": 179,
   "metadata": {},
   "outputs": [
    {
     "name": "stdout",
     "output_type": "stream",
     "text": [
      "Input batch shape: torch.Size([64, 1, 37, 12])\n",
      "Target batch shape: torch.Size([64, 37])\n"
     ]
    }
   ],
   "source": [
    "import scipy.io\n",
    "import numpy as np\n",
    "import torch\n",
    "from torch.utils.data import Dataset, DataLoader\n",
    "\n",
    "class WaterQualityDataset(Dataset):\n",
    "    def __init__(self, mat_file, train=True, transform=None):\n",
    "        \"\"\"\n",
    "        Args:\n",
    "            mat_file (str): Path to the .mat file containing the dataset.\n",
    "            train (bool): If True, load training data; otherwise load test data.\n",
    "            transform (callable, optional): Optional transform to be applied on a sample.\n",
    "        \"\"\"\n",
    "        # Load the .mat file\n",
    "        data = scipy.io.loadmat(mat_file)\n",
    "        self.transform = transform\n",
    "\n",
    "        # The variable 'location_group' is a 1x3 cell array:\n",
    "        #   location_group[0,0] => array of stations in group 1\n",
    "        #   location_group[0,1] => array of stations in group 2\n",
    "        #   location_group[0,2] => array of stations in group 3\n",
    "        location_group = data['location_group']  # shape: (1, 3)\n",
    "\n",
    "        # location_ids might be something like shape: (37, 1) for all station IDs\n",
    "        location_ids = data['location_ids'].flatten()  # shape: (37,)\n",
    "\n",
    "        num_stations = len(location_ids)  # should be 37\n",
    "        # Create an array to store the group ID for each station (1-based or 0-based is up to you)\n",
    "        group_ids = np.zeros(num_stations, dtype=np.float32)\n",
    "\n",
    "        # Fill group_ids based on location_group\n",
    "        for i in range(location_group.shape[1]):\n",
    "            # Each cell in location_group contains an array of station indices (MATLAB is 1-based)\n",
    "            station_indices = location_group[0, i].flatten() - 1  # convert to 0-based\n",
    "            # Assign group number (i+1) to those station indices\n",
    "            group_ids[station_indices] = i + 1\n",
    "\n",
    "        # Store group_ids for later usage in __getitem__\n",
    "        self.group_ids = group_ids\n",
    "\n",
    "        # Decide whether to load training or testing data\n",
    "        if train:\n",
    "            X_data = data['X_tr']  # shape: (1, 423), each cell is 37x11\n",
    "            Y_data = data['Y_tr']  # shape: (37, 423)\n",
    "        else:\n",
    "            X_data = data['X_te']  # shape: (1, 282), each cell is 37x11\n",
    "            Y_data = data['Y_te']  # shape: (37, 282)\n",
    "\n",
    "        # Convert cell array into Python lists for easier iteration\n",
    "        self.X_list = [X_data[0, i] for i in range(X_data.shape[1])]\n",
    "        self.Y_list = [Y_data[:, i] for i in range(Y_data.shape[1])]\n",
    "\n",
    "    def __len__(self):\n",
    "        return len(self.X_list)\n",
    "\n",
    "    def __getitem__(self, idx):\n",
    "        # X: shape (37, 11), Y: shape (37,)\n",
    "        x = self.X_list[idx]\n",
    "        y = self.Y_list[idx]\n",
    "\n",
    "        # Convert to torch tensors\n",
    "        x = torch.tensor(x, dtype=torch.float32)\n",
    "        y = torch.tensor(y, dtype=torch.float32)\n",
    "\n",
    "        # Build a column vector of group IDs for all 37 stations\n",
    "        # shape: (37,) => unsqueeze => (37, 1)\n",
    "        group_col = torch.tensor(self.group_ids, dtype=torch.float32).unsqueeze(1)\n",
    "\n",
    "        # Concatenate group_col to x along dim=1 => new shape (37, 12)\n",
    "        x = torch.cat((x, group_col), dim=1)\n",
    "\n",
    "        # Optionally add a channel dimension for CNN input => shape (1, 37, 12)\n",
    "        x = x.unsqueeze(0)\n",
    "\n",
    "        if self.transform:\n",
    "            x = self.transform(x)\n",
    "\n",
    "        return x, y\n",
    "\n",
    "# Example usage:\n",
    "mat_file_path = 'water_dataset.mat'  # Replace with your .mat file path\n",
    "\n",
    "# Create dataset instances for training and testing\n",
    "train_dataset = WaterQualityDataset(mat_file_path, train=True)\n",
    "test_dataset  = WaterQualityDataset(mat_file_path, train=False)\n",
    "\n",
    "# Create DataLoader instances\n",
    "train_loader = DataLoader(train_dataset, batch_size=64, shuffle=True)\n",
    "test_loader  = DataLoader(test_dataset, batch_size=64, shuffle=False)\n",
    "\n",
    "# Check one batch to verify the shapes\n",
    "for batch_x, batch_y in train_loader:\n",
    "    print(\"Input batch shape:\", batch_x.shape)  # Expected: [batch_size, 1, 37, 12]\n",
    "    print(\"Target batch shape:\", batch_y.shape) # Expected: [batch_size, 37]\n",
    "    break\n",
    "\n"
   ]
  },
  {
   "cell_type": "code",
   "execution_count": 180,
   "metadata": {},
   "outputs": [
    {
     "name": "stdout",
     "output_type": "stream",
     "text": [
      "Dummy output shape: torch.Size([8, 37])\n"
     ]
    }
   ],
   "source": [
    "import torch\n",
    "import torch.nn as nn\n",
    "import torch.nn.functional as F\n",
    "\n",
    "import torch\n",
    "import torch.nn as nn\n",
    "import torch.nn.functional as F\n",
    "\n",
    "class WaterQualityCNN(nn.Module):\n",
    "    def __init__(self):\n",
    "        super(WaterQualityCNN, self).__init__()\n",
    "        # Input shape: (batch_size, 1, 37, 12)\n",
    "        \n",
    "        # Convolutional layers\n",
    "        self.conv1 = nn.Conv2d(in_channels=1, out_channels=16, kernel_size=3, padding=1)   # -> (batch_size, 16, 37, 12)\n",
    "        self.conv2 = nn.Conv2d(in_channels=16, out_channels=32, kernel_size=3, padding=1)  # -> (batch_size, 32, 37, 12)\n",
    "        self.conv3 = nn.Conv2d(in_channels=32, out_channels=64, kernel_size=3, padding=1)  # -> (batch_size, 64, 37, 12)\n",
    "        self.conv4 = nn.Conv2d(in_channels=64, out_channels=128, kernel_size=3, padding=1) # -> (batch_size, 128, 37, 12)\n",
    "        \n",
    "        # Calculate the flattened dimension after conv4\n",
    "        self.flatten_dim = 128 * 37 * 12  # 128 channels, 37 rows, 12 columns\n",
    "        \n",
    "        # Fully connected layers\n",
    "        self.fc1 = nn.Linear(self.flatten_dim, 256)  # Intermediate fully connected layer\n",
    "        self.fc2 = nn.Linear(256, 37)                # Final fully connected layer mapping to one prediction per station\n",
    "\n",
    "    def forward(self, x):\n",
    "        # x: (batch_size, 1, 37, 12)\n",
    "        x = F.relu(self.conv1(x))  # -> (batch_size, 16, 37, 12)\n",
    "        x = F.relu(self.conv2(x))  # -> (batch_size, 32, 37, 12)\n",
    "        x = F.relu(self.conv3(x))  # -> (batch_size, 64, 37, 12)\n",
    "        x = F.relu(self.conv4(x))  # -> (batch_size, 128, 37, 12)\n",
    "        \n",
    "        # Flatten the feature maps: (batch_size, 128 * 37 * 12)\n",
    "        x = x.view(x.size(0), -1)\n",
    "        \n",
    "        # Pass through fully connected layers with a ReLU activation in between\n",
    "        x = F.relu(self.fc1(x))\n",
    "        x = self.fc2(x)  # -> (batch_size, 37)\n",
    "        return x\n",
    "\n",
    "# Example usage: Create a dummy input and test the forward pass\n",
    "if __name__ == '__main__':\n",
    "    model = WaterQualityCNN()\n",
    "    dummy_input = torch.randn(8, 1, 37, 12)  # batch size of 8\n",
    "    dummy_output = model(dummy_input)\n",
    "    print(\"Dummy output shape:\", dummy_output.shape)  # Expected: (8, 37)\n"
   ]
  },
  {
   "cell_type": "code",
   "execution_count": 181,
   "metadata": {},
   "outputs": [
    {
     "name": "stderr",
     "output_type": "stream",
     "text": [
      "C:\\Users\\75597\\AppData\\Local\\Packages\\PythonSoftwareFoundation.Python.3.10_qbz5n2kfra8p0\\LocalCache\\local-packages\\Python310\\site-packages\\torch\\optim\\lr_scheduler.py:62: UserWarning: The verbose parameter is deprecated. Please use get_last_lr() to access the learning rate.\n",
      "  warnings.warn(\n",
      "Epoch 1/200 Training: 100%|██████████| 14/14 [00:00<00:00, 68.86it/s, loss=0.0816]\n"
     ]
    },
    {
     "name": "stdout",
     "output_type": "stream",
     "text": [
      "Epoch 1/200 -- Train Loss: 0.263204, Test Loss: 0.071067\n"
     ]
    },
    {
     "name": "stderr",
     "output_type": "stream",
     "text": [
      "Epoch 2/200 Training: 100%|██████████| 14/14 [00:00<00:00, 111.85it/s, loss=0.00868]\n"
     ]
    },
    {
     "name": "stdout",
     "output_type": "stream",
     "text": [
      "Epoch 2/200 -- Train Loss: 0.036137, Test Loss: 0.008328\n"
     ]
    },
    {
     "name": "stderr",
     "output_type": "stream",
     "text": [
      "Epoch 3/200 Training: 100%|██████████| 14/14 [00:00<00:00, 218.54it/s, loss=0.00243]\n"
     ]
    },
    {
     "name": "stdout",
     "output_type": "stream",
     "text": [
      "Epoch 3/200 -- Train Loss: 0.005139, Test Loss: 0.002422\n"
     ]
    },
    {
     "name": "stderr",
     "output_type": "stream",
     "text": [
      "Epoch 4/200 Training: 100%|██████████| 14/14 [00:00<00:00, 218.79it/s, loss=0.000895]\n"
     ]
    },
    {
     "name": "stdout",
     "output_type": "stream",
     "text": [
      "Epoch 4/200 -- Train Loss: 0.001455, Test Loss: 0.000890\n"
     ]
    },
    {
     "name": "stderr",
     "output_type": "stream",
     "text": [
      "Epoch 5/200 Training: 100%|██████████| 14/14 [00:00<00:00, 196.30it/s, loss=0.000496]\n"
     ]
    },
    {
     "name": "stdout",
     "output_type": "stream",
     "text": [
      "Epoch 5/200 -- Train Loss: 0.000681, Test Loss: 0.000620\n"
     ]
    },
    {
     "name": "stderr",
     "output_type": "stream",
     "text": [
      "Epoch 6/200 Training: 100%|██████████| 14/14 [00:00<00:00, 213.49it/s, loss=0.000439]\n"
     ]
    },
    {
     "name": "stdout",
     "output_type": "stream",
     "text": [
      "Epoch 6/200 -- Train Loss: 0.000456, Test Loss: 0.000506\n"
     ]
    },
    {
     "name": "stderr",
     "output_type": "stream",
     "text": [
      "Epoch 7/200 Training: 100%|██████████| 14/14 [00:00<00:00, 213.84it/s, loss=0.000414]\n"
     ]
    },
    {
     "name": "stdout",
     "output_type": "stream",
     "text": [
      "Epoch 7/200 -- Train Loss: 0.000416, Test Loss: 0.000524\n"
     ]
    },
    {
     "name": "stderr",
     "output_type": "stream",
     "text": [
      "Epoch 8/200 Training: 100%|██████████| 14/14 [00:00<00:00, 198.33it/s, loss=0.000525]\n"
     ]
    },
    {
     "name": "stdout",
     "output_type": "stream",
     "text": [
      "Epoch 8/200 -- Train Loss: 0.000401, Test Loss: 0.000525\n"
     ]
    },
    {
     "name": "stderr",
     "output_type": "stream",
     "text": [
      "Epoch 9/200 Training: 100%|██████████| 14/14 [00:00<00:00, 213.51it/s, loss=0.000234]\n"
     ]
    },
    {
     "name": "stdout",
     "output_type": "stream",
     "text": [
      "Epoch 9/200 -- Train Loss: 0.000397, Test Loss: 0.000497\n"
     ]
    },
    {
     "name": "stderr",
     "output_type": "stream",
     "text": [
      "Epoch 10/200 Training: 100%|██████████| 14/14 [00:00<00:00, 199.37it/s, loss=0.000411]\n"
     ]
    },
    {
     "name": "stdout",
     "output_type": "stream",
     "text": [
      "Epoch 10/200 -- Train Loss: 0.000392, Test Loss: 0.000501\n"
     ]
    },
    {
     "name": "stderr",
     "output_type": "stream",
     "text": [
      "Epoch 11/200 Training: 100%|██████████| 14/14 [00:00<00:00, 194.04it/s, loss=0.000425]\n"
     ]
    },
    {
     "name": "stdout",
     "output_type": "stream",
     "text": [
      "Epoch 11/200 -- Train Loss: 0.000390, Test Loss: 0.000507\n"
     ]
    },
    {
     "name": "stderr",
     "output_type": "stream",
     "text": [
      "Epoch 12/200 Training: 100%|██████████| 14/14 [00:00<00:00, 211.70it/s, loss=0.00037]\n"
     ]
    },
    {
     "name": "stdout",
     "output_type": "stream",
     "text": [
      "Epoch 12/200 -- Train Loss: 0.000389, Test Loss: 0.000512\n"
     ]
    },
    {
     "name": "stderr",
     "output_type": "stream",
     "text": [
      "Epoch 13/200 Training: 100%|██████████| 14/14 [00:00<00:00, 206.36it/s, loss=0.000415]\n"
     ]
    },
    {
     "name": "stdout",
     "output_type": "stream",
     "text": [
      "Epoch 13/200 -- Train Loss: 0.000388, Test Loss: 0.000505\n"
     ]
    },
    {
     "name": "stderr",
     "output_type": "stream",
     "text": [
      "Epoch 14/200 Training: 100%|██████████| 14/14 [00:00<00:00, 191.36it/s, loss=0.000341]\n"
     ]
    },
    {
     "name": "stdout",
     "output_type": "stream",
     "text": [
      "Epoch 14/200 -- Train Loss: 0.000386, Test Loss: 0.000485\n"
     ]
    },
    {
     "name": "stderr",
     "output_type": "stream",
     "text": [
      "Epoch 15/200 Training: 100%|██████████| 14/14 [00:00<00:00, 216.61it/s, loss=0.000345]\n"
     ]
    },
    {
     "name": "stdout",
     "output_type": "stream",
     "text": [
      "Epoch 15/200 -- Train Loss: 0.000383, Test Loss: 0.000500\n"
     ]
    },
    {
     "name": "stderr",
     "output_type": "stream",
     "text": [
      "Epoch 16/200 Training: 100%|██████████| 14/14 [00:00<00:00, 206.83it/s, loss=0.000485]\n"
     ]
    },
    {
     "name": "stdout",
     "output_type": "stream",
     "text": [
      "Epoch 16/200 -- Train Loss: 0.000377, Test Loss: 0.000496\n"
     ]
    },
    {
     "name": "stderr",
     "output_type": "stream",
     "text": [
      "Epoch 17/200 Training: 100%|██████████| 14/14 [00:00<00:00, 201.40it/s, loss=0.000512]\n"
     ]
    },
    {
     "name": "stdout",
     "output_type": "stream",
     "text": [
      "Epoch 17/200 -- Train Loss: 0.000375, Test Loss: 0.000496\n"
     ]
    },
    {
     "name": "stderr",
     "output_type": "stream",
     "text": [
      "Epoch 18/200 Training: 100%|██████████| 14/14 [00:00<00:00, 212.55it/s, loss=0.000225]\n"
     ]
    },
    {
     "name": "stdout",
     "output_type": "stream",
     "text": [
      "Epoch 18/200 -- Train Loss: 0.000378, Test Loss: 0.000515\n"
     ]
    },
    {
     "name": "stderr",
     "output_type": "stream",
     "text": [
      "Epoch 19/200 Training: 100%|██████████| 14/14 [00:00<00:00, 213.52it/s, loss=0.000385]\n"
     ]
    },
    {
     "name": "stdout",
     "output_type": "stream",
     "text": [
      "Epoch 19/200 -- Train Loss: 0.000377, Test Loss: 0.000512\n"
     ]
    },
    {
     "name": "stderr",
     "output_type": "stream",
     "text": [
      "Epoch 20/200 Training: 100%|██████████| 14/14 [00:00<00:00, 199.46it/s, loss=0.000651]\n"
     ]
    },
    {
     "name": "stdout",
     "output_type": "stream",
     "text": [
      "Epoch 20/200 -- Train Loss: 0.000372, Test Loss: 0.000512\n"
     ]
    },
    {
     "name": "stderr",
     "output_type": "stream",
     "text": [
      "Epoch 21/200 Training: 100%|██████████| 14/14 [00:00<00:00, 207.00it/s, loss=0.000263]\n"
     ]
    },
    {
     "name": "stdout",
     "output_type": "stream",
     "text": [
      "Epoch 21/200 -- Train Loss: 0.000362, Test Loss: 0.000497\n"
     ]
    },
    {
     "name": "stderr",
     "output_type": "stream",
     "text": [
      "Epoch 22/200 Training: 100%|██████████| 14/14 [00:00<00:00, 204.43it/s, loss=0.000256]\n"
     ]
    },
    {
     "name": "stdout",
     "output_type": "stream",
     "text": [
      "Epoch 22/200 -- Train Loss: 0.000360, Test Loss: 0.000505\n"
     ]
    },
    {
     "name": "stderr",
     "output_type": "stream",
     "text": [
      "Epoch 23/200 Training: 100%|██████████| 14/14 [00:00<00:00, 217.37it/s, loss=0.000301]\n"
     ]
    },
    {
     "name": "stdout",
     "output_type": "stream",
     "text": [
      "Epoch 23/200 -- Train Loss: 0.000355, Test Loss: 0.000491\n"
     ]
    },
    {
     "name": "stderr",
     "output_type": "stream",
     "text": [
      "Epoch 24/200 Training: 100%|██████████| 14/14 [00:00<00:00, 206.13it/s, loss=0.000572]\n"
     ]
    },
    {
     "name": "stdout",
     "output_type": "stream",
     "text": [
      "Epoch 24/200 -- Train Loss: 0.000351, Test Loss: 0.000522\n"
     ]
    },
    {
     "name": "stderr",
     "output_type": "stream",
     "text": [
      "Epoch 25/200 Training: 100%|██████████| 14/14 [00:00<00:00, 211.74it/s, loss=0.000687]\n"
     ]
    },
    {
     "name": "stdout",
     "output_type": "stream",
     "text": [
      "Epoch 25/200 -- Train Loss: 0.000353, Test Loss: 0.000489\n"
     ]
    },
    {
     "name": "stderr",
     "output_type": "stream",
     "text": [
      "Epoch 26/200 Training: 100%|██████████| 14/14 [00:00<00:00, 194.64it/s, loss=0.000297]\n"
     ]
    },
    {
     "name": "stdout",
     "output_type": "stream",
     "text": [
      "Epoch 26/200 -- Train Loss: 0.000346, Test Loss: 0.000492\n"
     ]
    },
    {
     "name": "stderr",
     "output_type": "stream",
     "text": [
      "Epoch 27/200 Training: 100%|██████████| 14/14 [00:00<00:00, 212.79it/s, loss=0.000314]\n"
     ]
    },
    {
     "name": "stdout",
     "output_type": "stream",
     "text": [
      "Epoch 27/200 -- Train Loss: 0.000344, Test Loss: 0.000490\n"
     ]
    },
    {
     "name": "stderr",
     "output_type": "stream",
     "text": [
      "Epoch 28/200 Training: 100%|██████████| 14/14 [00:00<00:00, 216.63it/s, loss=0.000332]\n"
     ]
    },
    {
     "name": "stdout",
     "output_type": "stream",
     "text": [
      "Epoch 28/200 -- Train Loss: 0.000344, Test Loss: 0.000500\n"
     ]
    },
    {
     "name": "stderr",
     "output_type": "stream",
     "text": [
      "Epoch 29/200 Training: 100%|██████████| 14/14 [00:00<00:00, 199.59it/s, loss=0.000602]\n"
     ]
    },
    {
     "name": "stdout",
     "output_type": "stream",
     "text": [
      "Epoch 29/200 -- Train Loss: 0.000340, Test Loss: 0.000489\n"
     ]
    },
    {
     "name": "stderr",
     "output_type": "stream",
     "text": [
      "Epoch 30/200 Training: 100%|██████████| 14/14 [00:00<00:00, 227.46it/s, loss=0.000289]\n"
     ]
    },
    {
     "name": "stdout",
     "output_type": "stream",
     "text": [
      "Epoch 30/200 -- Train Loss: 0.000339, Test Loss: 0.000493\n"
     ]
    },
    {
     "name": "stderr",
     "output_type": "stream",
     "text": [
      "Epoch 31/200 Training: 100%|██████████| 14/14 [00:00<00:00, 213.85it/s, loss=0.000267]\n"
     ]
    },
    {
     "name": "stdout",
     "output_type": "stream",
     "text": [
      "Epoch 31/200 -- Train Loss: 0.000337, Test Loss: 0.000488\n"
     ]
    },
    {
     "name": "stderr",
     "output_type": "stream",
     "text": [
      "Epoch 32/200 Training: 100%|██████████| 14/14 [00:00<00:00, 200.97it/s, loss=0.000302]\n"
     ]
    },
    {
     "name": "stdout",
     "output_type": "stream",
     "text": [
      "Epoch 32/200 -- Train Loss: 0.000335, Test Loss: 0.000490\n"
     ]
    },
    {
     "name": "stderr",
     "output_type": "stream",
     "text": [
      "Epoch 33/200 Training: 100%|██████████| 14/14 [00:00<00:00, 205.19it/s, loss=0.000453]\n"
     ]
    },
    {
     "name": "stdout",
     "output_type": "stream",
     "text": [
      "Epoch 33/200 -- Train Loss: 0.000335, Test Loss: 0.000483\n"
     ]
    },
    {
     "name": "stderr",
     "output_type": "stream",
     "text": [
      "Epoch 34/200 Training: 100%|██████████| 14/14 [00:00<00:00, 210.28it/s, loss=0.000202]\n"
     ]
    },
    {
     "name": "stdout",
     "output_type": "stream",
     "text": [
      "Epoch 34/200 -- Train Loss: 0.000331, Test Loss: 0.000487\n"
     ]
    },
    {
     "name": "stderr",
     "output_type": "stream",
     "text": [
      "Epoch 35/200 Training: 100%|██████████| 14/14 [00:00<00:00, 203.99it/s, loss=0.000595]\n"
     ]
    },
    {
     "name": "stdout",
     "output_type": "stream",
     "text": [
      "Epoch 35/200 -- Train Loss: 0.000330, Test Loss: 0.000492\n"
     ]
    },
    {
     "name": "stderr",
     "output_type": "stream",
     "text": [
      "Epoch 36/200 Training: 100%|██████████| 14/14 [00:00<00:00, 220.26it/s, loss=0.00058]\n"
     ]
    },
    {
     "name": "stdout",
     "output_type": "stream",
     "text": [
      "Epoch 36/200 -- Train Loss: 0.000336, Test Loss: 0.000483\n"
     ]
    },
    {
     "name": "stderr",
     "output_type": "stream",
     "text": [
      "Epoch 37/200 Training: 100%|██████████| 14/14 [00:00<00:00, 206.68it/s, loss=0.000206]\n"
     ]
    },
    {
     "name": "stdout",
     "output_type": "stream",
     "text": [
      "Epoch 37/200 -- Train Loss: 0.000330, Test Loss: 0.000491\n"
     ]
    },
    {
     "name": "stderr",
     "output_type": "stream",
     "text": [
      "Epoch 38/200 Training: 100%|██████████| 14/14 [00:00<00:00, 205.47it/s, loss=0.000352]\n"
     ]
    },
    {
     "name": "stdout",
     "output_type": "stream",
     "text": [
      "Epoch 38/200 -- Train Loss: 0.000330, Test Loss: 0.000484\n"
     ]
    },
    {
     "name": "stderr",
     "output_type": "stream",
     "text": [
      "Epoch 39/200 Training: 100%|██████████| 14/14 [00:00<00:00, 201.99it/s, loss=0.000235]\n"
     ]
    },
    {
     "name": "stdout",
     "output_type": "stream",
     "text": [
      "Epoch 39/200 -- Train Loss: 0.000326, Test Loss: 0.000487\n"
     ]
    },
    {
     "name": "stderr",
     "output_type": "stream",
     "text": [
      "Epoch 40/200 Training: 100%|██████████| 14/14 [00:00<00:00, 214.97it/s, loss=0.000504]\n"
     ]
    },
    {
     "name": "stdout",
     "output_type": "stream",
     "text": [
      "Epoch 40/200 -- Train Loss: 0.000332, Test Loss: 0.000523\n"
     ]
    },
    {
     "name": "stderr",
     "output_type": "stream",
     "text": [
      "Epoch 41/200 Training: 100%|██████████| 14/14 [00:00<00:00, 196.98it/s, loss=0.00025]\n"
     ]
    },
    {
     "name": "stdout",
     "output_type": "stream",
     "text": [
      "Epoch 41/200 -- Train Loss: 0.000330, Test Loss: 0.000509\n"
     ]
    },
    {
     "name": "stderr",
     "output_type": "stream",
     "text": [
      "Epoch 42/200 Training: 100%|██████████| 14/14 [00:00<00:00, 220.24it/s, loss=0.00036]\n"
     ]
    },
    {
     "name": "stdout",
     "output_type": "stream",
     "text": [
      "Epoch 42/200 -- Train Loss: 0.000326, Test Loss: 0.000488\n"
     ]
    },
    {
     "name": "stderr",
     "output_type": "stream",
     "text": [
      "Epoch 43/200 Training: 100%|██████████| 14/14 [00:00<00:00, 208.72it/s, loss=0.000323]\n"
     ]
    },
    {
     "name": "stdout",
     "output_type": "stream",
     "text": [
      "Epoch 43/200 -- Train Loss: 0.000321, Test Loss: 0.000502\n"
     ]
    },
    {
     "name": "stderr",
     "output_type": "stream",
     "text": [
      "Epoch 44/200 Training: 100%|██████████| 14/14 [00:00<00:00, 185.08it/s, loss=0.000301]\n"
     ]
    },
    {
     "name": "stdout",
     "output_type": "stream",
     "text": [
      "Epoch 44/200 -- Train Loss: 0.000320, Test Loss: 0.000488\n"
     ]
    },
    {
     "name": "stderr",
     "output_type": "stream",
     "text": [
      "Epoch 45/200 Training: 100%|██████████| 14/14 [00:00<00:00, 204.03it/s, loss=0.000204]\n"
     ]
    },
    {
     "name": "stdout",
     "output_type": "stream",
     "text": [
      "Epoch 45/200 -- Train Loss: 0.000317, Test Loss: 0.000498\n"
     ]
    },
    {
     "name": "stderr",
     "output_type": "stream",
     "text": [
      "Epoch 46/200 Training: 100%|██████████| 14/14 [00:00<00:00, 213.50it/s, loss=0.00043]\n"
     ]
    },
    {
     "name": "stdout",
     "output_type": "stream",
     "text": [
      "Epoch 46/200 -- Train Loss: 0.000317, Test Loss: 0.000483\n"
     ]
    },
    {
     "name": "stderr",
     "output_type": "stream",
     "text": [
      "Epoch 47/200 Training: 100%|██████████| 14/14 [00:00<00:00, 196.94it/s, loss=0.000476]\n"
     ]
    },
    {
     "name": "stdout",
     "output_type": "stream",
     "text": [
      "Epoch 47/200 -- Train Loss: 0.000314, Test Loss: 0.000490\n"
     ]
    },
    {
     "name": "stderr",
     "output_type": "stream",
     "text": [
      "Epoch 48/200 Training: 100%|██████████| 14/14 [00:00<00:00, 216.83it/s, loss=0.000232]\n"
     ]
    },
    {
     "name": "stdout",
     "output_type": "stream",
     "text": [
      "Epoch 48/200 -- Train Loss: 0.000316, Test Loss: 0.000498\n"
     ]
    },
    {
     "name": "stderr",
     "output_type": "stream",
     "text": [
      "Epoch 49/200 Training: 100%|██████████| 14/14 [00:00<00:00, 213.48it/s, loss=0.000577]\n"
     ]
    },
    {
     "name": "stdout",
     "output_type": "stream",
     "text": [
      "Epoch 49/200 -- Train Loss: 0.000312, Test Loss: 0.000496\n"
     ]
    },
    {
     "name": "stderr",
     "output_type": "stream",
     "text": [
      "Epoch 50/200 Training: 100%|██████████| 14/14 [00:00<00:00, 205.65it/s, loss=0.000222]\n"
     ]
    },
    {
     "name": "stdout",
     "output_type": "stream",
     "text": [
      "Epoch 50/200 -- Train Loss: 0.000313, Test Loss: 0.000486\n"
     ]
    },
    {
     "name": "stderr",
     "output_type": "stream",
     "text": [
      "Epoch 51/200 Training: 100%|██████████| 14/14 [00:00<00:00, 208.55it/s, loss=0.00032]\n"
     ]
    },
    {
     "name": "stdout",
     "output_type": "stream",
     "text": [
      "Epoch 51/200 -- Train Loss: 0.000310, Test Loss: 0.000487\n"
     ]
    },
    {
     "name": "stderr",
     "output_type": "stream",
     "text": [
      "Epoch 52/200 Training: 100%|██████████| 14/14 [00:00<00:00, 211.72it/s, loss=0.000301]\n"
     ]
    },
    {
     "name": "stdout",
     "output_type": "stream",
     "text": [
      "Epoch 52/200 -- Train Loss: 0.000308, Test Loss: 0.000480\n"
     ]
    },
    {
     "name": "stderr",
     "output_type": "stream",
     "text": [
      "Epoch 53/200 Training: 100%|██████████| 14/14 [00:00<00:00, 216.85it/s, loss=0.00045]\n"
     ]
    },
    {
     "name": "stdout",
     "output_type": "stream",
     "text": [
      "Epoch 53/200 -- Train Loss: 0.000307, Test Loss: 0.000476\n"
     ]
    },
    {
     "name": "stderr",
     "output_type": "stream",
     "text": [
      "Epoch 54/200 Training: 100%|██████████| 14/14 [00:00<00:00, 199.66it/s, loss=0.000436]\n"
     ]
    },
    {
     "name": "stdout",
     "output_type": "stream",
     "text": [
      "Epoch 54/200 -- Train Loss: 0.000306, Test Loss: 0.000475\n"
     ]
    },
    {
     "name": "stderr",
     "output_type": "stream",
     "text": [
      "Epoch 55/200 Training: 100%|██████████| 14/14 [00:00<00:00, 223.76it/s, loss=0.000262]\n"
     ]
    },
    {
     "name": "stdout",
     "output_type": "stream",
     "text": [
      "Epoch 55/200 -- Train Loss: 0.000301, Test Loss: 0.000474\n"
     ]
    },
    {
     "name": "stderr",
     "output_type": "stream",
     "text": [
      "Epoch 56/200 Training: 100%|██████████| 14/14 [00:00<00:00, 212.74it/s, loss=0.000198]\n"
     ]
    },
    {
     "name": "stdout",
     "output_type": "stream",
     "text": [
      "Epoch 56/200 -- Train Loss: 0.000300, Test Loss: 0.000480\n"
     ]
    },
    {
     "name": "stderr",
     "output_type": "stream",
     "text": [
      "Epoch 57/200 Training: 100%|██████████| 14/14 [00:00<00:00, 186.54it/s, loss=0.00065]\n"
     ]
    },
    {
     "name": "stdout",
     "output_type": "stream",
     "text": [
      "Epoch 57/200 -- Train Loss: 0.000298, Test Loss: 0.000480\n"
     ]
    },
    {
     "name": "stderr",
     "output_type": "stream",
     "text": [
      "Epoch 58/200 Training: 100%|██████████| 14/14 [00:00<00:00, 210.10it/s, loss=0.0004]\n"
     ]
    },
    {
     "name": "stdout",
     "output_type": "stream",
     "text": [
      "Epoch 58/200 -- Train Loss: 0.000301, Test Loss: 0.000505\n"
     ]
    },
    {
     "name": "stderr",
     "output_type": "stream",
     "text": [
      "Epoch 59/200 Training: 100%|██████████| 14/14 [00:00<00:00, 222.01it/s, loss=0.000258]\n"
     ]
    },
    {
     "name": "stdout",
     "output_type": "stream",
     "text": [
      "Epoch 59/200 -- Train Loss: 0.000299, Test Loss: 0.000482\n"
     ]
    },
    {
     "name": "stderr",
     "output_type": "stream",
     "text": [
      "Epoch 60/200 Training: 100%|██████████| 14/14 [00:00<00:00, 192.27it/s, loss=0.000262]\n"
     ]
    },
    {
     "name": "stdout",
     "output_type": "stream",
     "text": [
      "Epoch 60/200 -- Train Loss: 0.000295, Test Loss: 0.000486\n"
     ]
    },
    {
     "name": "stderr",
     "output_type": "stream",
     "text": [
      "Epoch 61/200 Training: 100%|██████████| 14/14 [00:00<00:00, 223.73it/s, loss=0.000284]\n"
     ]
    },
    {
     "name": "stdout",
     "output_type": "stream",
     "text": [
      "Epoch 61/200 -- Train Loss: 0.000291, Test Loss: 0.000481\n"
     ]
    },
    {
     "name": "stderr",
     "output_type": "stream",
     "text": [
      "Epoch 62/200 Training: 100%|██████████| 14/14 [00:00<00:00, 216.72it/s, loss=0.000188]\n"
     ]
    },
    {
     "name": "stdout",
     "output_type": "stream",
     "text": [
      "Epoch 62/200 -- Train Loss: 0.000289, Test Loss: 0.000483\n"
     ]
    },
    {
     "name": "stderr",
     "output_type": "stream",
     "text": [
      "Epoch 63/200 Training: 100%|██████████| 14/14 [00:00<00:00, 191.95it/s, loss=0.000272]\n"
     ]
    },
    {
     "name": "stdout",
     "output_type": "stream",
     "text": [
      "Epoch 63/200 -- Train Loss: 0.000287, Test Loss: 0.000486\n"
     ]
    },
    {
     "name": "stderr",
     "output_type": "stream",
     "text": [
      "Epoch 64/200 Training: 100%|██████████| 14/14 [00:00<00:00, 217.58it/s, loss=0.000302]\n"
     ]
    },
    {
     "name": "stdout",
     "output_type": "stream",
     "text": [
      "Epoch 64/200 -- Train Loss: 0.000286, Test Loss: 0.000477\n"
     ]
    },
    {
     "name": "stderr",
     "output_type": "stream",
     "text": [
      "Epoch 65/200 Training: 100%|██████████| 14/14 [00:00<00:00, 215.94it/s, loss=0.000327]\n"
     ]
    },
    {
     "name": "stdout",
     "output_type": "stream",
     "text": [
      "Epoch 65/200 -- Train Loss: 0.000283, Test Loss: 0.000473\n"
     ]
    },
    {
     "name": "stderr",
     "output_type": "stream",
     "text": [
      "Epoch 66/200 Training: 100%|██████████| 14/14 [00:00<00:00, 198.36it/s, loss=0.000182]\n"
     ]
    },
    {
     "name": "stdout",
     "output_type": "stream",
     "text": [
      "Epoch 66/200 -- Train Loss: 0.000292, Test Loss: 0.000486\n"
     ]
    },
    {
     "name": "stderr",
     "output_type": "stream",
     "text": [
      "Epoch 67/200 Training: 100%|██████████| 14/14 [00:00<00:00, 218.56it/s, loss=0.000259]\n"
     ]
    },
    {
     "name": "stdout",
     "output_type": "stream",
     "text": [
      "Epoch 67/200 -- Train Loss: 0.000287, Test Loss: 0.000474\n"
     ]
    },
    {
     "name": "stderr",
     "output_type": "stream",
     "text": [
      "Epoch 68/200 Training: 100%|██████████| 14/14 [00:00<00:00, 211.48it/s, loss=0.000296]\n"
     ]
    },
    {
     "name": "stdout",
     "output_type": "stream",
     "text": [
      "Epoch 68/200 -- Train Loss: 0.000283, Test Loss: 0.000481\n"
     ]
    },
    {
     "name": "stderr",
     "output_type": "stream",
     "text": [
      "Epoch 69/200 Training: 100%|██████████| 14/14 [00:00<00:00, 186.74it/s, loss=0.000249]\n"
     ]
    },
    {
     "name": "stdout",
     "output_type": "stream",
     "text": [
      "Epoch 69/200 -- Train Loss: 0.000276, Test Loss: 0.000477\n"
     ]
    },
    {
     "name": "stderr",
     "output_type": "stream",
     "text": [
      "Epoch 70/200 Training: 100%|██████████| 14/14 [00:00<00:00, 219.82it/s, loss=0.000255]\n"
     ]
    },
    {
     "name": "stdout",
     "output_type": "stream",
     "text": [
      "Epoch 70/200 -- Train Loss: 0.000274, Test Loss: 0.000459\n"
     ]
    },
    {
     "name": "stderr",
     "output_type": "stream",
     "text": [
      "Epoch 71/200 Training: 100%|██████████| 14/14 [00:00<00:00, 213.49it/s, loss=0.000257]\n"
     ]
    },
    {
     "name": "stdout",
     "output_type": "stream",
     "text": [
      "Epoch 71/200 -- Train Loss: 0.000274, Test Loss: 0.000464\n"
     ]
    },
    {
     "name": "stderr",
     "output_type": "stream",
     "text": [
      "Epoch 72/200 Training: 100%|██████████| 14/14 [00:00<00:00, 199.21it/s, loss=0.000504]\n"
     ]
    },
    {
     "name": "stdout",
     "output_type": "stream",
     "text": [
      "Epoch 72/200 -- Train Loss: 0.000272, Test Loss: 0.000465\n"
     ]
    },
    {
     "name": "stderr",
     "output_type": "stream",
     "text": [
      "Epoch 73/200 Training: 100%|██████████| 14/14 [00:00<00:00, 222.50it/s, loss=0.00039]\n"
     ]
    },
    {
     "name": "stdout",
     "output_type": "stream",
     "text": [
      "Epoch 73/200 -- Train Loss: 0.000272, Test Loss: 0.000477\n"
     ]
    },
    {
     "name": "stderr",
     "output_type": "stream",
     "text": [
      "Epoch 74/200 Training: 100%|██████████| 14/14 [00:00<00:00, 216.79it/s, loss=0.000351]\n"
     ]
    },
    {
     "name": "stdout",
     "output_type": "stream",
     "text": [
      "Epoch 74/200 -- Train Loss: 0.000269, Test Loss: 0.000471\n"
     ]
    },
    {
     "name": "stderr",
     "output_type": "stream",
     "text": [
      "Epoch 75/200 Training: 100%|██████████| 14/14 [00:00<00:00, 186.32it/s, loss=0.000225]\n"
     ]
    },
    {
     "name": "stdout",
     "output_type": "stream",
     "text": [
      "Epoch 75/200 -- Train Loss: 0.000268, Test Loss: 0.000465\n"
     ]
    },
    {
     "name": "stderr",
     "output_type": "stream",
     "text": [
      "Epoch 76/200 Training: 100%|██████████| 14/14 [00:00<00:00, 209.88it/s, loss=0.000192]\n"
     ]
    },
    {
     "name": "stdout",
     "output_type": "stream",
     "text": [
      "Epoch 76/200 -- Train Loss: 0.000263, Test Loss: 0.000472\n"
     ]
    },
    {
     "name": "stderr",
     "output_type": "stream",
     "text": [
      "Epoch 77/200 Training: 100%|██████████| 14/14 [00:00<00:00, 208.59it/s, loss=0.000242]\n"
     ]
    },
    {
     "name": "stdout",
     "output_type": "stream",
     "text": [
      "Epoch 77/200 -- Train Loss: 0.000263, Test Loss: 0.000479\n"
     ]
    },
    {
     "name": "stderr",
     "output_type": "stream",
     "text": [
      "Epoch 78/200 Training: 100%|██████████| 14/14 [00:00<00:00, 195.30it/s, loss=0.000235]\n"
     ]
    },
    {
     "name": "stdout",
     "output_type": "stream",
     "text": [
      "Epoch 78/200 -- Train Loss: 0.000262, Test Loss: 0.000471\n"
     ]
    },
    {
     "name": "stderr",
     "output_type": "stream",
     "text": [
      "Epoch 79/200 Training: 100%|██████████| 14/14 [00:00<00:00, 210.33it/s, loss=0.000289]\n"
     ]
    },
    {
     "name": "stdout",
     "output_type": "stream",
     "text": [
      "Epoch 79/200 -- Train Loss: 0.000259, Test Loss: 0.000461\n"
     ]
    },
    {
     "name": "stderr",
     "output_type": "stream",
     "text": [
      "Epoch 80/200 Training: 100%|██████████| 14/14 [00:00<00:00, 206.58it/s, loss=0.000205]\n"
     ]
    },
    {
     "name": "stdout",
     "output_type": "stream",
     "text": [
      "Epoch 80/200 -- Train Loss: 0.000256, Test Loss: 0.000462\n"
     ]
    },
    {
     "name": "stderr",
     "output_type": "stream",
     "text": [
      "Epoch 81/200 Training: 100%|██████████| 14/14 [00:00<00:00, 190.07it/s, loss=0.00023]\n"
     ]
    },
    {
     "name": "stdout",
     "output_type": "stream",
     "text": [
      "Epoch 81/200 -- Train Loss: 0.000254, Test Loss: 0.000468\n"
     ]
    },
    {
     "name": "stderr",
     "output_type": "stream",
     "text": [
      "Epoch 82/200 Training: 100%|██████████| 14/14 [00:00<00:00, 216.80it/s, loss=0.000183]\n"
     ]
    },
    {
     "name": "stdout",
     "output_type": "stream",
     "text": [
      "Epoch 82/200 -- Train Loss: 0.000252, Test Loss: 0.000450\n"
     ]
    },
    {
     "name": "stderr",
     "output_type": "stream",
     "text": [
      "Epoch 83/200 Training: 100%|██████████| 14/14 [00:00<00:00, 212.29it/s, loss=0.000283]\n"
     ]
    },
    {
     "name": "stdout",
     "output_type": "stream",
     "text": [
      "Epoch 83/200 -- Train Loss: 0.000251, Test Loss: 0.000454\n"
     ]
    },
    {
     "name": "stderr",
     "output_type": "stream",
     "text": [
      "Epoch 84/200 Training: 100%|██████████| 14/14 [00:00<00:00, 201.20it/s, loss=0.000311]\n"
     ]
    },
    {
     "name": "stdout",
     "output_type": "stream",
     "text": [
      "Epoch 84/200 -- Train Loss: 0.000254, Test Loss: 0.000447\n"
     ]
    },
    {
     "name": "stderr",
     "output_type": "stream",
     "text": [
      "Epoch 85/200 Training: 100%|██████████| 14/14 [00:00<00:00, 215.17it/s, loss=0.000229]\n"
     ]
    },
    {
     "name": "stdout",
     "output_type": "stream",
     "text": [
      "Epoch 85/200 -- Train Loss: 0.000248, Test Loss: 0.000456\n"
     ]
    },
    {
     "name": "stderr",
     "output_type": "stream",
     "text": [
      "Epoch 86/200 Training: 100%|██████████| 14/14 [00:00<00:00, 213.51it/s, loss=0.000251]\n"
     ]
    },
    {
     "name": "stdout",
     "output_type": "stream",
     "text": [
      "Epoch 86/200 -- Train Loss: 0.000249, Test Loss: 0.000461\n"
     ]
    },
    {
     "name": "stderr",
     "output_type": "stream",
     "text": [
      "Epoch 87/200 Training: 100%|██████████| 14/14 [00:00<00:00, 190.50it/s, loss=0.000365]\n"
     ]
    },
    {
     "name": "stdout",
     "output_type": "stream",
     "text": [
      "Epoch 87/200 -- Train Loss: 0.000245, Test Loss: 0.000450\n"
     ]
    },
    {
     "name": "stderr",
     "output_type": "stream",
     "text": [
      "Epoch 88/200 Training: 100%|██████████| 14/14 [00:00<00:00, 210.32it/s, loss=0.000245]\n"
     ]
    },
    {
     "name": "stdout",
     "output_type": "stream",
     "text": [
      "Epoch 88/200 -- Train Loss: 0.000244, Test Loss: 0.000454\n"
     ]
    },
    {
     "name": "stderr",
     "output_type": "stream",
     "text": [
      "Epoch 89/200 Training: 100%|██████████| 14/14 [00:00<00:00, 215.02it/s, loss=0.000159]\n"
     ]
    },
    {
     "name": "stdout",
     "output_type": "stream",
     "text": [
      "Epoch 89/200 -- Train Loss: 0.000245, Test Loss: 0.000456\n"
     ]
    },
    {
     "name": "stderr",
     "output_type": "stream",
     "text": [
      "Epoch 90/200 Training: 100%|██████████| 14/14 [00:00<00:00, 192.84it/s, loss=0.00018]\n"
     ]
    },
    {
     "name": "stdout",
     "output_type": "stream",
     "text": [
      "Epoch 90/200 -- Train Loss: 0.000244, Test Loss: 0.000458\n"
     ]
    },
    {
     "name": "stderr",
     "output_type": "stream",
     "text": [
      "Epoch 91/200 Training: 100%|██████████| 14/14 [00:00<00:00, 218.51it/s, loss=0.000181]\n"
     ]
    },
    {
     "name": "stdout",
     "output_type": "stream",
     "text": [
      "Epoch 91/200 -- Train Loss: 0.000243, Test Loss: 0.000454\n"
     ]
    },
    {
     "name": "stderr",
     "output_type": "stream",
     "text": [
      "Epoch 92/200 Training: 100%|██████████| 14/14 [00:00<00:00, 210.28it/s, loss=0.000126]\n"
     ]
    },
    {
     "name": "stdout",
     "output_type": "stream",
     "text": [
      "Epoch 92/200 -- Train Loss: 0.000241, Test Loss: 0.000454\n"
     ]
    },
    {
     "name": "stderr",
     "output_type": "stream",
     "text": [
      "Epoch 93/200 Training: 100%|██████████| 14/14 [00:00<00:00, 188.92it/s, loss=0.000285]\n"
     ]
    },
    {
     "name": "stdout",
     "output_type": "stream",
     "text": [
      "Epoch 93/200 -- Train Loss: 0.000240, Test Loss: 0.000450\n"
     ]
    },
    {
     "name": "stderr",
     "output_type": "stream",
     "text": [
      "Epoch 94/200 Training: 100%|██████████| 14/14 [00:00<00:00, 208.42it/s, loss=0.000275]\n"
     ]
    },
    {
     "name": "stdout",
     "output_type": "stream",
     "text": [
      "Epoch 94/200 -- Train Loss: 0.000242, Test Loss: 0.000462\n"
     ]
    },
    {
     "name": "stderr",
     "output_type": "stream",
     "text": [
      "Epoch 95/200 Training: 100%|██████████| 14/14 [00:00<00:00, 213.51it/s, loss=0.000188]\n"
     ]
    },
    {
     "name": "stdout",
     "output_type": "stream",
     "text": [
      "Epoch 95/200 -- Train Loss: 0.000240, Test Loss: 0.000451\n"
     ]
    },
    {
     "name": "stderr",
     "output_type": "stream",
     "text": [
      "Epoch 96/200 Training: 100%|██████████| 14/14 [00:00<00:00, 193.23it/s, loss=0.000217]\n"
     ]
    },
    {
     "name": "stdout",
     "output_type": "stream",
     "text": [
      "Epoch 96/200 -- Train Loss: 0.000238, Test Loss: 0.000451\n"
     ]
    },
    {
     "name": "stderr",
     "output_type": "stream",
     "text": [
      "Epoch 97/200 Training: 100%|██████████| 14/14 [00:00<00:00, 216.81it/s, loss=0.000389]\n"
     ]
    },
    {
     "name": "stdout",
     "output_type": "stream",
     "text": [
      "Epoch 97/200 -- Train Loss: 0.000238, Test Loss: 0.000449\n"
     ]
    },
    {
     "name": "stderr",
     "output_type": "stream",
     "text": [
      "Epoch 98/200 Training: 100%|██████████| 14/14 [00:00<00:00, 221.97it/s, loss=0.000258]\n"
     ]
    },
    {
     "name": "stdout",
     "output_type": "stream",
     "text": [
      "Epoch 98/200 -- Train Loss: 0.000237, Test Loss: 0.000453\n"
     ]
    },
    {
     "name": "stderr",
     "output_type": "stream",
     "text": [
      "Epoch 99/200 Training: 100%|██████████| 14/14 [00:00<00:00, 192.70it/s, loss=0.000175]\n"
     ]
    },
    {
     "name": "stdout",
     "output_type": "stream",
     "text": [
      "Epoch 99/200 -- Train Loss: 0.000236, Test Loss: 0.000447\n"
     ]
    },
    {
     "name": "stderr",
     "output_type": "stream",
     "text": [
      "Epoch 100/200 Training: 100%|██████████| 14/14 [00:00<00:00, 218.31it/s, loss=0.000262]\n"
     ]
    },
    {
     "name": "stdout",
     "output_type": "stream",
     "text": [
      "Epoch 100/200 -- Train Loss: 0.000235, Test Loss: 0.000452\n"
     ]
    },
    {
     "name": "stderr",
     "output_type": "stream",
     "text": [
      "Epoch 101/200 Training: 100%|██████████| 14/14 [00:00<00:00, 215.75it/s, loss=0.000252]\n"
     ]
    },
    {
     "name": "stdout",
     "output_type": "stream",
     "text": [
      "Epoch 101/200 -- Train Loss: 0.000235, Test Loss: 0.000449\n"
     ]
    },
    {
     "name": "stderr",
     "output_type": "stream",
     "text": [
      "Epoch 102/200 Training: 100%|██████████| 14/14 [00:00<00:00, 193.80it/s, loss=0.000192]\n"
     ]
    },
    {
     "name": "stdout",
     "output_type": "stream",
     "text": [
      "Epoch 102/200 -- Train Loss: 0.000235, Test Loss: 0.000455\n"
     ]
    },
    {
     "name": "stderr",
     "output_type": "stream",
     "text": [
      "Epoch 103/200 Training: 100%|██████████| 14/14 [00:00<00:00, 223.61it/s, loss=0.000252]\n"
     ]
    },
    {
     "name": "stdout",
     "output_type": "stream",
     "text": [
      "Epoch 103/200 -- Train Loss: 0.000235, Test Loss: 0.000446\n"
     ]
    },
    {
     "name": "stderr",
     "output_type": "stream",
     "text": [
      "Epoch 104/200 Training: 100%|██████████| 14/14 [00:00<00:00, 213.53it/s, loss=0.000232]\n"
     ]
    },
    {
     "name": "stdout",
     "output_type": "stream",
     "text": [
      "Epoch 104/200 -- Train Loss: 0.000234, Test Loss: 0.000451\n"
     ]
    },
    {
     "name": "stderr",
     "output_type": "stream",
     "text": [
      "Epoch 105/200 Training: 100%|██████████| 14/14 [00:00<00:00, 190.70it/s, loss=0.000344]\n"
     ]
    },
    {
     "name": "stdout",
     "output_type": "stream",
     "text": [
      "Epoch 105/200 -- Train Loss: 0.000233, Test Loss: 0.000447\n"
     ]
    },
    {
     "name": "stderr",
     "output_type": "stream",
     "text": [
      "Epoch 106/200 Training: 100%|██████████| 14/14 [00:00<00:00, 200.59it/s, loss=0.000229]\n"
     ]
    },
    {
     "name": "stdout",
     "output_type": "stream",
     "text": [
      "Epoch 106/200 -- Train Loss: 0.000234, Test Loss: 0.000451\n"
     ]
    },
    {
     "name": "stderr",
     "output_type": "stream",
     "text": [
      "Epoch 107/200 Training: 100%|██████████| 14/14 [00:00<00:00, 215.14it/s, loss=0.000176]\n"
     ]
    },
    {
     "name": "stdout",
     "output_type": "stream",
     "text": [
      "Epoch 107/200 -- Train Loss: 0.000232, Test Loss: 0.000452\n"
     ]
    },
    {
     "name": "stderr",
     "output_type": "stream",
     "text": [
      "Epoch 108/200 Training: 100%|██████████| 14/14 [00:00<00:00, 199.76it/s, loss=0.000182]\n"
     ]
    },
    {
     "name": "stdout",
     "output_type": "stream",
     "text": [
      "Epoch 108/200 -- Train Loss: 0.000233, Test Loss: 0.000445\n"
     ]
    },
    {
     "name": "stderr",
     "output_type": "stream",
     "text": [
      "Epoch 109/200 Training: 100%|██████████| 14/14 [00:00<00:00, 200.76it/s, loss=0.00018]\n"
     ]
    },
    {
     "name": "stdout",
     "output_type": "stream",
     "text": [
      "Epoch 109/200 -- Train Loss: 0.000231, Test Loss: 0.000451\n"
     ]
    },
    {
     "name": "stderr",
     "output_type": "stream",
     "text": [
      "Epoch 110/200 Training: 100%|██████████| 14/14 [00:00<00:00, 217.89it/s, loss=0.000237]\n"
     ]
    },
    {
     "name": "stdout",
     "output_type": "stream",
     "text": [
      "Epoch 110/200 -- Train Loss: 0.000231, Test Loss: 0.000449\n"
     ]
    },
    {
     "name": "stderr",
     "output_type": "stream",
     "text": [
      "Epoch 111/200 Training: 100%|██████████| 14/14 [00:00<00:00, 190.18it/s, loss=0.000462]\n"
     ]
    },
    {
     "name": "stdout",
     "output_type": "stream",
     "text": [
      "Epoch 111/200 -- Train Loss: 0.000231, Test Loss: 0.000452\n"
     ]
    },
    {
     "name": "stderr",
     "output_type": "stream",
     "text": [
      "Epoch 112/200 Training: 100%|██████████| 14/14 [00:00<00:00, 208.05it/s, loss=0.00032]\n"
     ]
    },
    {
     "name": "stdout",
     "output_type": "stream",
     "text": [
      "Epoch 112/200 -- Train Loss: 0.000231, Test Loss: 0.000447\n"
     ]
    },
    {
     "name": "stderr",
     "output_type": "stream",
     "text": [
      "Epoch 113/200 Training: 100%|██████████| 14/14 [00:00<00:00, 219.58it/s, loss=0.000286]\n"
     ]
    },
    {
     "name": "stdout",
     "output_type": "stream",
     "text": [
      "Epoch 113/200 -- Train Loss: 0.000231, Test Loss: 0.000444\n"
     ]
    },
    {
     "name": "stderr",
     "output_type": "stream",
     "text": [
      "Epoch 114/200 Training: 100%|██████████| 14/14 [00:00<00:00, 222.87it/s, loss=0.000279]\n"
     ]
    },
    {
     "name": "stdout",
     "output_type": "stream",
     "text": [
      "Epoch 114/200 -- Train Loss: 0.000230, Test Loss: 0.000450\n"
     ]
    },
    {
     "name": "stderr",
     "output_type": "stream",
     "text": [
      "Epoch 115/200 Training: 100%|██████████| 14/14 [00:00<00:00, 215.17it/s, loss=0.000249]\n"
     ]
    },
    {
     "name": "stdout",
     "output_type": "stream",
     "text": [
      "Epoch 115/200 -- Train Loss: 0.000230, Test Loss: 0.000446\n"
     ]
    },
    {
     "name": "stderr",
     "output_type": "stream",
     "text": [
      "Epoch 116/200 Training: 100%|██████████| 14/14 [00:00<00:00, 216.30it/s, loss=0.000288]\n"
     ]
    },
    {
     "name": "stdout",
     "output_type": "stream",
     "text": [
      "Epoch 116/200 -- Train Loss: 0.000230, Test Loss: 0.000448\n"
     ]
    },
    {
     "name": "stderr",
     "output_type": "stream",
     "text": [
      "Epoch 117/200 Training: 100%|██████████| 14/14 [00:00<00:00, 196.90it/s, loss=0.000144]\n"
     ]
    },
    {
     "name": "stdout",
     "output_type": "stream",
     "text": [
      "Epoch 117/200 -- Train Loss: 0.000229, Test Loss: 0.000443\n"
     ]
    },
    {
     "name": "stderr",
     "output_type": "stream",
     "text": [
      "Epoch 118/200 Training: 100%|██████████| 14/14 [00:00<00:00, 211.84it/s, loss=0.000202]\n"
     ]
    },
    {
     "name": "stdout",
     "output_type": "stream",
     "text": [
      "Epoch 118/200 -- Train Loss: 0.000229, Test Loss: 0.000449\n"
     ]
    },
    {
     "name": "stderr",
     "output_type": "stream",
     "text": [
      "Epoch 119/200 Training: 100%|██████████| 14/14 [00:00<00:00, 214.09it/s, loss=0.000208]\n"
     ]
    },
    {
     "name": "stdout",
     "output_type": "stream",
     "text": [
      "Epoch 119/200 -- Train Loss: 0.000229, Test Loss: 0.000441\n"
     ]
    },
    {
     "name": "stderr",
     "output_type": "stream",
     "text": [
      "Epoch 120/200 Training: 100%|██████████| 14/14 [00:00<00:00, 205.68it/s, loss=0.000224]\n"
     ]
    },
    {
     "name": "stdout",
     "output_type": "stream",
     "text": [
      "Epoch 120/200 -- Train Loss: 0.000227, Test Loss: 0.000444\n"
     ]
    },
    {
     "name": "stderr",
     "output_type": "stream",
     "text": [
      "Epoch 121/200 Training: 100%|██████████| 14/14 [00:00<00:00, 212.67it/s, loss=0.000164]\n"
     ]
    },
    {
     "name": "stdout",
     "output_type": "stream",
     "text": [
      "Epoch 121/200 -- Train Loss: 0.000227, Test Loss: 0.000440\n"
     ]
    },
    {
     "name": "stderr",
     "output_type": "stream",
     "text": [
      "Epoch 122/200 Training: 100%|██████████| 14/14 [00:00<00:00, 213.55it/s, loss=0.000194]\n"
     ]
    },
    {
     "name": "stdout",
     "output_type": "stream",
     "text": [
      "Epoch 122/200 -- Train Loss: 0.000227, Test Loss: 0.000444\n"
     ]
    },
    {
     "name": "stderr",
     "output_type": "stream",
     "text": [
      "Epoch 123/200 Training: 100%|██████████| 14/14 [00:00<00:00, 192.68it/s, loss=0.000259]\n"
     ]
    },
    {
     "name": "stdout",
     "output_type": "stream",
     "text": [
      "Epoch 123/200 -- Train Loss: 0.000228, Test Loss: 0.000449\n"
     ]
    },
    {
     "name": "stderr",
     "output_type": "stream",
     "text": [
      "Epoch 124/200 Training: 100%|██████████| 14/14 [00:00<00:00, 205.35it/s, loss=0.000315]\n"
     ]
    },
    {
     "name": "stdout",
     "output_type": "stream",
     "text": [
      "Epoch 124/200 -- Train Loss: 0.000227, Test Loss: 0.000437\n"
     ]
    },
    {
     "name": "stderr",
     "output_type": "stream",
     "text": [
      "Epoch 125/200 Training: 100%|██████████| 14/14 [00:00<00:00, 209.06it/s, loss=0.000451]\n"
     ]
    },
    {
     "name": "stdout",
     "output_type": "stream",
     "text": [
      "Epoch 125/200 -- Train Loss: 0.000226, Test Loss: 0.000444\n"
     ]
    },
    {
     "name": "stderr",
     "output_type": "stream",
     "text": [
      "Epoch 126/200 Training: 100%|██████████| 14/14 [00:00<00:00, 199.21it/s, loss=0.000423]\n"
     ]
    },
    {
     "name": "stdout",
     "output_type": "stream",
     "text": [
      "Epoch 126/200 -- Train Loss: 0.000226, Test Loss: 0.000443\n"
     ]
    },
    {
     "name": "stderr",
     "output_type": "stream",
     "text": [
      "Epoch 127/200 Training: 100%|██████████| 14/14 [00:00<00:00, 223.62it/s, loss=0.000143]\n"
     ]
    },
    {
     "name": "stdout",
     "output_type": "stream",
     "text": [
      "Epoch 127/200 -- Train Loss: 0.000225, Test Loss: 0.000452\n"
     ]
    },
    {
     "name": "stderr",
     "output_type": "stream",
     "text": [
      "Epoch 128/200 Training: 100%|██████████| 14/14 [00:00<00:00, 215.14it/s, loss=0.000273]\n"
     ]
    },
    {
     "name": "stdout",
     "output_type": "stream",
     "text": [
      "Epoch 128/200 -- Train Loss: 0.000225, Test Loss: 0.000444\n"
     ]
    },
    {
     "name": "stderr",
     "output_type": "stream",
     "text": [
      "Epoch 129/200 Training: 100%|██████████| 14/14 [00:00<00:00, 186.41it/s, loss=0.000113]\n"
     ]
    },
    {
     "name": "stdout",
     "output_type": "stream",
     "text": [
      "Epoch 129/200 -- Train Loss: 0.000225, Test Loss: 0.000438\n"
     ]
    },
    {
     "name": "stderr",
     "output_type": "stream",
     "text": [
      "Epoch 130/200 Training: 100%|██████████| 14/14 [00:00<00:00, 220.25it/s, loss=0.000186]\n"
     ]
    },
    {
     "name": "stdout",
     "output_type": "stream",
     "text": [
      "Epoch 130/200 -- Train Loss: 0.000225, Test Loss: 0.000447\n"
     ]
    },
    {
     "name": "stderr",
     "output_type": "stream",
     "text": [
      "Epoch 131/200 Training: 100%|██████████| 14/14 [00:00<00:00, 208.45it/s, loss=0.000196]\n"
     ]
    },
    {
     "name": "stdout",
     "output_type": "stream",
     "text": [
      "Epoch 131/200 -- Train Loss: 0.000224, Test Loss: 0.000441\n"
     ]
    },
    {
     "name": "stderr",
     "output_type": "stream",
     "text": [
      "Epoch 132/200 Training: 100%|██████████| 14/14 [00:00<00:00, 198.35it/s, loss=0.000146]\n"
     ]
    },
    {
     "name": "stdout",
     "output_type": "stream",
     "text": [
      "Epoch 132/200 -- Train Loss: 0.000224, Test Loss: 0.000443\n"
     ]
    },
    {
     "name": "stderr",
     "output_type": "stream",
     "text": [
      "Epoch 133/200 Training: 100%|██████████| 14/14 [00:00<00:00, 213.44it/s, loss=0.000298]\n"
     ]
    },
    {
     "name": "stdout",
     "output_type": "stream",
     "text": [
      "Epoch 133/200 -- Train Loss: 0.000223, Test Loss: 0.000449\n"
     ]
    },
    {
     "name": "stderr",
     "output_type": "stream",
     "text": [
      "Epoch 134/200 Training: 100%|██████████| 14/14 [00:00<00:00, 215.27it/s, loss=0.000159]\n"
     ]
    },
    {
     "name": "stdout",
     "output_type": "stream",
     "text": [
      "Epoch 134/200 -- Train Loss: 0.000223, Test Loss: 0.000440\n"
     ]
    },
    {
     "name": "stderr",
     "output_type": "stream",
     "text": [
      "Epoch 135/200 Training: 100%|██████████| 14/14 [00:00<00:00, 189.89it/s, loss=0.000207]\n"
     ]
    },
    {
     "name": "stdout",
     "output_type": "stream",
     "text": [
      "Epoch 135/200 -- Train Loss: 0.000222, Test Loss: 0.000443\n"
     ]
    },
    {
     "name": "stderr",
     "output_type": "stream",
     "text": [
      "Epoch 136/200 Training: 100%|██████████| 14/14 [00:00<00:00, 210.28it/s, loss=0.000189]\n"
     ]
    },
    {
     "name": "stdout",
     "output_type": "stream",
     "text": [
      "Epoch 136/200 -- Train Loss: 0.000222, Test Loss: 0.000439\n"
     ]
    },
    {
     "name": "stderr",
     "output_type": "stream",
     "text": [
      "Epoch 137/200 Training: 100%|██████████| 14/14 [00:00<00:00, 206.44it/s, loss=0.0002]\n"
     ]
    },
    {
     "name": "stdout",
     "output_type": "stream",
     "text": [
      "Epoch 137/200 -- Train Loss: 0.000221, Test Loss: 0.000443\n"
     ]
    },
    {
     "name": "stderr",
     "output_type": "stream",
     "text": [
      "Epoch 138/200 Training: 100%|██████████| 14/14 [00:00<00:00, 194.23it/s, loss=0.000271]\n"
     ]
    },
    {
     "name": "stdout",
     "output_type": "stream",
     "text": [
      "Epoch 138/200 -- Train Loss: 0.000221, Test Loss: 0.000439\n"
     ]
    },
    {
     "name": "stderr",
     "output_type": "stream",
     "text": [
      "Epoch 139/200 Training: 100%|██████████| 14/14 [00:00<00:00, 215.18it/s, loss=0.000237]\n"
     ]
    },
    {
     "name": "stdout",
     "output_type": "stream",
     "text": [
      "Epoch 139/200 -- Train Loss: 0.000221, Test Loss: 0.000440\n"
     ]
    },
    {
     "name": "stderr",
     "output_type": "stream",
     "text": [
      "Epoch 140/200 Training: 100%|██████████| 14/14 [00:00<00:00, 213.83it/s, loss=0.000248]\n"
     ]
    },
    {
     "name": "stdout",
     "output_type": "stream",
     "text": [
      "Epoch 140/200 -- Train Loss: 0.000221, Test Loss: 0.000443\n"
     ]
    },
    {
     "name": "stderr",
     "output_type": "stream",
     "text": [
      "Epoch 141/200 Training: 100%|██████████| 14/14 [00:00<00:00, 195.51it/s, loss=0.000154]\n"
     ]
    },
    {
     "name": "stdout",
     "output_type": "stream",
     "text": [
      "Epoch 141/200 -- Train Loss: 0.000220, Test Loss: 0.000439\n"
     ]
    },
    {
     "name": "stderr",
     "output_type": "stream",
     "text": [
      "Epoch 142/200 Training: 100%|██████████| 14/14 [00:00<00:00, 210.31it/s, loss=0.000198]\n"
     ]
    },
    {
     "name": "stdout",
     "output_type": "stream",
     "text": [
      "Epoch 142/200 -- Train Loss: 0.000220, Test Loss: 0.000441\n"
     ]
    },
    {
     "name": "stderr",
     "output_type": "stream",
     "text": [
      "Epoch 143/200 Training: 100%|██████████| 14/14 [00:00<00:00, 206.17it/s, loss=0.000182]\n"
     ]
    },
    {
     "name": "stdout",
     "output_type": "stream",
     "text": [
      "Epoch 143/200 -- Train Loss: 0.000219, Test Loss: 0.000440\n"
     ]
    },
    {
     "name": "stderr",
     "output_type": "stream",
     "text": [
      "Epoch 144/200 Training: 100%|██████████| 14/14 [00:00<00:00, 198.32it/s, loss=0.000224]\n"
     ]
    },
    {
     "name": "stdout",
     "output_type": "stream",
     "text": [
      "Epoch 144/200 -- Train Loss: 0.000219, Test Loss: 0.000440\n"
     ]
    },
    {
     "name": "stderr",
     "output_type": "stream",
     "text": [
      "Epoch 145/200 Training: 100%|██████████| 14/14 [00:00<00:00, 210.24it/s, loss=0.000222]\n"
     ]
    },
    {
     "name": "stdout",
     "output_type": "stream",
     "text": [
      "Epoch 145/200 -- Train Loss: 0.000219, Test Loss: 0.000440\n"
     ]
    },
    {
     "name": "stderr",
     "output_type": "stream",
     "text": [
      "Epoch 146/200 Training: 100%|██████████| 14/14 [00:00<00:00, 202.64it/s, loss=0.000195]\n"
     ]
    },
    {
     "name": "stdout",
     "output_type": "stream",
     "text": [
      "Epoch 146/200 -- Train Loss: 0.000219, Test Loss: 0.000439\n"
     ]
    },
    {
     "name": "stderr",
     "output_type": "stream",
     "text": [
      "Epoch 147/200 Training: 100%|██████████| 14/14 [00:00<00:00, 182.33it/s, loss=0.000194]"
     ]
    },
    {
     "name": "stdout",
     "output_type": "stream",
     "text": [
      "Epoch 147/200 -- Train Loss: 0.000219, Test Loss: 0.000440"
     ]
    },
    {
     "name": "stderr",
     "output_type": "stream",
     "text": [
      "\n"
     ]
    },
    {
     "name": "stdout",
     "output_type": "stream",
     "text": [
      "\n"
     ]
    },
    {
     "name": "stderr",
     "output_type": "stream",
     "text": [
      "Epoch 148/200 Training: 100%|██████████| 14/14 [00:00<00:00, 199.77it/s, loss=0.000163]\n"
     ]
    },
    {
     "name": "stdout",
     "output_type": "stream",
     "text": [
      "Epoch 148/200 -- Train Loss: 0.000218, Test Loss: 0.000440\n"
     ]
    },
    {
     "name": "stderr",
     "output_type": "stream",
     "text": [
      "Epoch 149/200 Training: 100%|██████████| 14/14 [00:00<00:00, 209.46it/s, loss=0.000197]\n"
     ]
    },
    {
     "name": "stdout",
     "output_type": "stream",
     "text": [
      "Epoch 149/200 -- Train Loss: 0.000218, Test Loss: 0.000439\n"
     ]
    },
    {
     "name": "stderr",
     "output_type": "stream",
     "text": [
      "Epoch 150/200 Training: 100%|██████████| 14/14 [00:00<00:00, 191.78it/s, loss=0.000222]\n"
     ]
    },
    {
     "name": "stdout",
     "output_type": "stream",
     "text": [
      "Epoch 150/200 -- Train Loss: 0.000218, Test Loss: 0.000441\n"
     ]
    },
    {
     "name": "stderr",
     "output_type": "stream",
     "text": [
      "Epoch 151/200 Training: 100%|██████████| 14/14 [00:00<00:00, 218.43it/s, loss=0.00013]\n"
     ]
    },
    {
     "name": "stdout",
     "output_type": "stream",
     "text": [
      "Epoch 151/200 -- Train Loss: 0.000218, Test Loss: 0.000438\n"
     ]
    },
    {
     "name": "stderr",
     "output_type": "stream",
     "text": [
      "Epoch 152/200 Training: 100%|██████████| 14/14 [00:00<00:00, 212.74it/s, loss=0.000289]\n"
     ]
    },
    {
     "name": "stdout",
     "output_type": "stream",
     "text": [
      "Epoch 152/200 -- Train Loss: 0.000218, Test Loss: 0.000439\n"
     ]
    },
    {
     "name": "stderr",
     "output_type": "stream",
     "text": [
      "Epoch 153/200 Training: 100%|██████████| 14/14 [00:00<00:00, 180.84it/s, loss=0.000115]\n"
     ]
    },
    {
     "name": "stdout",
     "output_type": "stream",
     "text": [
      "Epoch 153/200 -- Train Loss: 0.000218, Test Loss: 0.000438\n"
     ]
    },
    {
     "name": "stderr",
     "output_type": "stream",
     "text": [
      "Epoch 154/200 Training: 100%|██████████| 14/14 [00:00<00:00, 205.63it/s, loss=0.000198]\n"
     ]
    },
    {
     "name": "stdout",
     "output_type": "stream",
     "text": [
      "Epoch 154/200 -- Train Loss: 0.000218, Test Loss: 0.000440\n"
     ]
    },
    {
     "name": "stderr",
     "output_type": "stream",
     "text": [
      "Epoch 155/200 Training: 100%|██████████| 14/14 [00:00<00:00, 202.19it/s, loss=0.000144]\n"
     ]
    },
    {
     "name": "stdout",
     "output_type": "stream",
     "text": [
      "Epoch 155/200 -- Train Loss: 0.000218, Test Loss: 0.000435\n"
     ]
    },
    {
     "name": "stderr",
     "output_type": "stream",
     "text": [
      "Epoch 156/200 Training: 100%|██████████| 14/14 [00:00<00:00, 188.15it/s, loss=0.000274]\n"
     ]
    },
    {
     "name": "stdout",
     "output_type": "stream",
     "text": [
      "Epoch 156/200 -- Train Loss: 0.000218, Test Loss: 0.000438\n"
     ]
    },
    {
     "name": "stderr",
     "output_type": "stream",
     "text": [
      "Epoch 157/200 Training: 100%|██████████| 14/14 [00:00<00:00, 213.48it/s, loss=0.000158]\n"
     ]
    },
    {
     "name": "stdout",
     "output_type": "stream",
     "text": [
      "Epoch 157/200 -- Train Loss: 0.000218, Test Loss: 0.000439\n"
     ]
    },
    {
     "name": "stderr",
     "output_type": "stream",
     "text": [
      "Epoch 158/200 Training: 100%|██████████| 14/14 [00:00<00:00, 214.88it/s, loss=0.000258]\n"
     ]
    },
    {
     "name": "stdout",
     "output_type": "stream",
     "text": [
      "Epoch 158/200 -- Train Loss: 0.000218, Test Loss: 0.000439\n"
     ]
    },
    {
     "name": "stderr",
     "output_type": "stream",
     "text": [
      "Epoch 159/200 Training: 100%|██████████| 14/14 [00:00<00:00, 194.43it/s, loss=0.000172]\n"
     ]
    },
    {
     "name": "stdout",
     "output_type": "stream",
     "text": [
      "Epoch 159/200 -- Train Loss: 0.000217, Test Loss: 0.000439\n"
     ]
    },
    {
     "name": "stderr",
     "output_type": "stream",
     "text": [
      "Epoch 160/200 Training: 100%|██████████| 14/14 [00:00<00:00, 213.50it/s, loss=0.000272]\n"
     ]
    },
    {
     "name": "stdout",
     "output_type": "stream",
     "text": [
      "Epoch 160/200 -- Train Loss: 0.000217, Test Loss: 0.000438\n"
     ]
    },
    {
     "name": "stderr",
     "output_type": "stream",
     "text": [
      "Epoch 161/200 Training: 100%|██████████| 14/14 [00:00<00:00, 214.35it/s, loss=0.000168]\n"
     ]
    },
    {
     "name": "stdout",
     "output_type": "stream",
     "text": [
      "Epoch 161/200 -- Train Loss: 0.000217, Test Loss: 0.000439\n"
     ]
    },
    {
     "name": "stderr",
     "output_type": "stream",
     "text": [
      "Epoch 162/200 Training: 100%|██████████| 14/14 [00:00<00:00, 196.78it/s, loss=0.000158]\n"
     ]
    },
    {
     "name": "stdout",
     "output_type": "stream",
     "text": [
      "Epoch 162/200 -- Train Loss: 0.000217, Test Loss: 0.000438\n"
     ]
    },
    {
     "name": "stderr",
     "output_type": "stream",
     "text": [
      "Epoch 163/200 Training: 100%|██████████| 14/14 [00:00<00:00, 213.54it/s, loss=0.000232]\n"
     ]
    },
    {
     "name": "stdout",
     "output_type": "stream",
     "text": [
      "Epoch 163/200 -- Train Loss: 0.000217, Test Loss: 0.000439\n"
     ]
    },
    {
     "name": "stderr",
     "output_type": "stream",
     "text": [
      "Epoch 164/200 Training: 100%|██████████| 14/14 [00:00<00:00, 211.90it/s, loss=0.0002]\n"
     ]
    },
    {
     "name": "stdout",
     "output_type": "stream",
     "text": [
      "Epoch 164/200 -- Train Loss: 0.000217, Test Loss: 0.000438\n"
     ]
    },
    {
     "name": "stderr",
     "output_type": "stream",
     "text": [
      "Epoch 165/200 Training: 100%|██████████| 14/14 [00:00<00:00, 189.68it/s, loss=0.000209]\n"
     ]
    },
    {
     "name": "stdout",
     "output_type": "stream",
     "text": [
      "Epoch 165/200 -- Train Loss: 0.000217, Test Loss: 0.000437\n"
     ]
    },
    {
     "name": "stderr",
     "output_type": "stream",
     "text": [
      "Epoch 166/200 Training: 100%|██████████| 14/14 [00:00<00:00, 210.18it/s, loss=0.000172]\n"
     ]
    },
    {
     "name": "stdout",
     "output_type": "stream",
     "text": [
      "Epoch 166/200 -- Train Loss: 0.000217, Test Loss: 0.000440\n"
     ]
    },
    {
     "name": "stderr",
     "output_type": "stream",
     "text": [
      "Epoch 167/200 Training: 100%|██████████| 14/14 [00:00<00:00, 204.08it/s, loss=0.000383]\n"
     ]
    },
    {
     "name": "stdout",
     "output_type": "stream",
     "text": [
      "Epoch 167/200 -- Train Loss: 0.000216, Test Loss: 0.000439\n"
     ]
    },
    {
     "name": "stderr",
     "output_type": "stream",
     "text": [
      "Epoch 168/200 Training: 100%|██████████| 14/14 [00:00<00:00, 190.78it/s, loss=0.000143]\n"
     ]
    },
    {
     "name": "stdout",
     "output_type": "stream",
     "text": [
      "Epoch 168/200 -- Train Loss: 0.000216, Test Loss: 0.000437\n"
     ]
    },
    {
     "name": "stderr",
     "output_type": "stream",
     "text": [
      "Epoch 169/200 Training: 100%|██████████| 14/14 [00:00<00:00, 213.51it/s, loss=0.000203]\n"
     ]
    },
    {
     "name": "stdout",
     "output_type": "stream",
     "text": [
      "Epoch 169/200 -- Train Loss: 0.000216, Test Loss: 0.000438\n"
     ]
    },
    {
     "name": "stderr",
     "output_type": "stream",
     "text": [
      "Epoch 170/200 Training: 100%|██████████| 14/14 [00:00<00:00, 211.92it/s, loss=0.000184]\n"
     ]
    },
    {
     "name": "stdout",
     "output_type": "stream",
     "text": [
      "Epoch 170/200 -- Train Loss: 0.000217, Test Loss: 0.000436\n"
     ]
    },
    {
     "name": "stderr",
     "output_type": "stream",
     "text": [
      "Epoch 171/200 Training: 100%|██████████| 14/14 [00:00<00:00, 182.71it/s, loss=0.000209]\n"
     ]
    },
    {
     "name": "stdout",
     "output_type": "stream",
     "text": [
      "Epoch 171/200 -- Train Loss: 0.000216, Test Loss: 0.000437\n"
     ]
    },
    {
     "name": "stderr",
     "output_type": "stream",
     "text": [
      "Epoch 172/200 Training: 100%|██████████| 14/14 [00:00<00:00, 207.17it/s, loss=0.000169]\n"
     ]
    },
    {
     "name": "stdout",
     "output_type": "stream",
     "text": [
      "Epoch 172/200 -- Train Loss: 0.000216, Test Loss: 0.000437\n"
     ]
    },
    {
     "name": "stderr",
     "output_type": "stream",
     "text": [
      "Epoch 173/200 Training: 100%|██████████| 14/14 [00:00<00:00, 210.26it/s, loss=0.000134]\n"
     ]
    },
    {
     "name": "stdout",
     "output_type": "stream",
     "text": [
      "Epoch 173/200 -- Train Loss: 0.000216, Test Loss: 0.000436\n"
     ]
    },
    {
     "name": "stderr",
     "output_type": "stream",
     "text": [
      "Epoch 174/200 Training: 100%|██████████| 14/14 [00:00<00:00, 191.86it/s, loss=0.000171]\n"
     ]
    },
    {
     "name": "stdout",
     "output_type": "stream",
     "text": [
      "Epoch 174/200 -- Train Loss: 0.000216, Test Loss: 0.000437\n"
     ]
    },
    {
     "name": "stderr",
     "output_type": "stream",
     "text": [
      "Epoch 175/200 Training: 100%|██████████| 14/14 [00:00<00:00, 216.87it/s, loss=0.000339]\n"
     ]
    },
    {
     "name": "stdout",
     "output_type": "stream",
     "text": [
      "Epoch 175/200 -- Train Loss: 0.000216, Test Loss: 0.000437\n"
     ]
    },
    {
     "name": "stderr",
     "output_type": "stream",
     "text": [
      "Epoch 176/200 Training: 100%|██████████| 14/14 [00:00<00:00, 209.10it/s, loss=0.000157]\n"
     ]
    },
    {
     "name": "stdout",
     "output_type": "stream",
     "text": [
      "Epoch 176/200 -- Train Loss: 0.000216, Test Loss: 0.000438\n"
     ]
    },
    {
     "name": "stderr",
     "output_type": "stream",
     "text": [
      "Epoch 177/200 Training: 100%|██████████| 14/14 [00:00<00:00, 191.46it/s, loss=0.000114]\n"
     ]
    },
    {
     "name": "stdout",
     "output_type": "stream",
     "text": [
      "Epoch 177/200 -- Train Loss: 0.000216, Test Loss: 0.000438\n"
     ]
    },
    {
     "name": "stderr",
     "output_type": "stream",
     "text": [
      "Epoch 178/200 Training: 100%|██████████| 14/14 [00:00<00:00, 207.01it/s, loss=0.000184]\n"
     ]
    },
    {
     "name": "stdout",
     "output_type": "stream",
     "text": [
      "Epoch 178/200 -- Train Loss: 0.000216, Test Loss: 0.000438\n"
     ]
    },
    {
     "name": "stderr",
     "output_type": "stream",
     "text": [
      "Epoch 179/200 Training: 100%|██████████| 14/14 [00:00<00:00, 208.75it/s, loss=0.000192]\n"
     ]
    },
    {
     "name": "stdout",
     "output_type": "stream",
     "text": [
      "Epoch 179/200 -- Train Loss: 0.000216, Test Loss: 0.000437\n"
     ]
    },
    {
     "name": "stderr",
     "output_type": "stream",
     "text": [
      "Epoch 180/200 Training: 100%|██████████| 14/14 [00:00<00:00, 190.67it/s, loss=0.00017]\n"
     ]
    },
    {
     "name": "stdout",
     "output_type": "stream",
     "text": [
      "Epoch 180/200 -- Train Loss: 0.000216, Test Loss: 0.000438\n"
     ]
    },
    {
     "name": "stderr",
     "output_type": "stream",
     "text": [
      "Epoch 181/200 Training: 100%|██████████| 14/14 [00:00<00:00, 190.76it/s, loss=0.000138]\n"
     ]
    },
    {
     "name": "stdout",
     "output_type": "stream",
     "text": [
      "Epoch 181/200 -- Train Loss: 0.000216, Test Loss: 0.000437\n"
     ]
    },
    {
     "name": "stderr",
     "output_type": "stream",
     "text": [
      "Epoch 182/200 Training: 100%|██████████| 14/14 [00:00<00:00, 205.16it/s, loss=0.00019]\n"
     ]
    },
    {
     "name": "stdout",
     "output_type": "stream",
     "text": [
      "Epoch 182/200 -- Train Loss: 0.000216, Test Loss: 0.000436\n"
     ]
    },
    {
     "name": "stderr",
     "output_type": "stream",
     "text": [
      "Epoch 183/200 Training: 100%|██████████| 14/14 [00:00<00:00, 190.14it/s, loss=0.000241]\n"
     ]
    },
    {
     "name": "stdout",
     "output_type": "stream",
     "text": [
      "Epoch 183/200 -- Train Loss: 0.000216, Test Loss: 0.000437\n"
     ]
    },
    {
     "name": "stderr",
     "output_type": "stream",
     "text": [
      "Epoch 184/200 Training: 100%|██████████| 14/14 [00:00<00:00, 203.96it/s, loss=0.000248]\n"
     ]
    },
    {
     "name": "stdout",
     "output_type": "stream",
     "text": [
      "Epoch 184/200 -- Train Loss: 0.000216, Test Loss: 0.000438\n"
     ]
    },
    {
     "name": "stderr",
     "output_type": "stream",
     "text": [
      "Epoch 185/200 Training: 100%|██████████| 14/14 [00:00<00:00, 208.68it/s, loss=0.000163]\n"
     ]
    },
    {
     "name": "stdout",
     "output_type": "stream",
     "text": [
      "Epoch 185/200 -- Train Loss: 0.000216, Test Loss: 0.000437\n"
     ]
    },
    {
     "name": "stderr",
     "output_type": "stream",
     "text": [
      "Epoch 186/200 Training: 100%|██████████| 14/14 [00:00<00:00, 187.02it/s, loss=0.000261]\n"
     ]
    },
    {
     "name": "stdout",
     "output_type": "stream",
     "text": [
      "Epoch 186/200 -- Train Loss: 0.000216, Test Loss: 0.000437\n"
     ]
    },
    {
     "name": "stderr",
     "output_type": "stream",
     "text": [
      "Epoch 187/200 Training: 100%|██████████| 14/14 [00:00<00:00, 213.50it/s, loss=0.000198]\n"
     ]
    },
    {
     "name": "stdout",
     "output_type": "stream",
     "text": [
      "Epoch 187/200 -- Train Loss: 0.000216, Test Loss: 0.000438\n"
     ]
    },
    {
     "name": "stderr",
     "output_type": "stream",
     "text": [
      "Epoch 188/200 Training: 100%|██████████| 14/14 [00:00<00:00, 200.31it/s, loss=0.000244]\n"
     ]
    },
    {
     "name": "stdout",
     "output_type": "stream",
     "text": [
      "Epoch 188/200 -- Train Loss: 0.000216, Test Loss: 0.000435\n"
     ]
    },
    {
     "name": "stderr",
     "output_type": "stream",
     "text": [
      "Epoch 189/200 Training: 100%|██████████| 14/14 [00:00<00:00, 194.17it/s, loss=0.000233]\n"
     ]
    },
    {
     "name": "stdout",
     "output_type": "stream",
     "text": [
      "Epoch 189/200 -- Train Loss: 0.000216, Test Loss: 0.000437\n"
     ]
    },
    {
     "name": "stderr",
     "output_type": "stream",
     "text": [
      "Epoch 190/200 Training: 100%|██████████| 14/14 [00:00<00:00, 211.88it/s, loss=0.00016]\n"
     ]
    },
    {
     "name": "stdout",
     "output_type": "stream",
     "text": [
      "Epoch 190/200 -- Train Loss: 0.000215, Test Loss: 0.000438\n"
     ]
    },
    {
     "name": "stderr",
     "output_type": "stream",
     "text": [
      "Epoch 191/200 Training: 100%|██████████| 14/14 [00:00<00:00, 203.04it/s, loss=0.000236]\n"
     ]
    },
    {
     "name": "stdout",
     "output_type": "stream",
     "text": [
      "Epoch 191/200 -- Train Loss: 0.000216, Test Loss: 0.000438\n"
     ]
    },
    {
     "name": "stderr",
     "output_type": "stream",
     "text": [
      "Epoch 192/200 Training: 100%|██████████| 14/14 [00:00<00:00, 201.83it/s, loss=0.000219]\n"
     ]
    },
    {
     "name": "stdout",
     "output_type": "stream",
     "text": [
      "Epoch 192/200 -- Train Loss: 0.000216, Test Loss: 0.000436\n"
     ]
    },
    {
     "name": "stderr",
     "output_type": "stream",
     "text": [
      "Epoch 193/200 Training: 100%|██████████| 14/14 [00:00<00:00, 209.02it/s, loss=0.000248]\n"
     ]
    },
    {
     "name": "stdout",
     "output_type": "stream",
     "text": [
      "Epoch 193/200 -- Train Loss: 0.000215, Test Loss: 0.000437\n"
     ]
    },
    {
     "name": "stderr",
     "output_type": "stream",
     "text": [
      "Epoch 194/200 Training: 100%|██████████| 14/14 [00:00<00:00, 215.90it/s, loss=0.000219]\n"
     ]
    },
    {
     "name": "stdout",
     "output_type": "stream",
     "text": [
      "Epoch 194/200 -- Train Loss: 0.000215, Test Loss: 0.000437\n"
     ]
    },
    {
     "name": "stderr",
     "output_type": "stream",
     "text": [
      "Epoch 195/200 Training: 100%|██████████| 14/14 [00:00<00:00, 202.52it/s, loss=0.000213]\n"
     ]
    },
    {
     "name": "stdout",
     "output_type": "stream",
     "text": [
      "Epoch 195/200 -- Train Loss: 0.000215, Test Loss: 0.000437\n"
     ]
    },
    {
     "name": "stderr",
     "output_type": "stream",
     "text": [
      "Epoch 196/200 Training: 100%|██████████| 14/14 [00:00<00:00, 200.67it/s, loss=0.000133]\n"
     ]
    },
    {
     "name": "stdout",
     "output_type": "stream",
     "text": [
      "Epoch 196/200 -- Train Loss: 0.000215, Test Loss: 0.000437\n"
     ]
    },
    {
     "name": "stderr",
     "output_type": "stream",
     "text": [
      "Epoch 197/200 Training: 100%|██████████| 14/14 [00:00<00:00, 210.29it/s, loss=0.000232]\n"
     ]
    },
    {
     "name": "stdout",
     "output_type": "stream",
     "text": [
      "Epoch 197/200 -- Train Loss: 0.000215, Test Loss: 0.000436\n"
     ]
    },
    {
     "name": "stderr",
     "output_type": "stream",
     "text": [
      "Epoch 198/200 Training: 100%|██████████| 14/14 [00:00<00:00, 186.62it/s, loss=0.000221]\n"
     ]
    },
    {
     "name": "stdout",
     "output_type": "stream",
     "text": [
      "Epoch 198/200 -- Train Loss: 0.000215, Test Loss: 0.000438\n"
     ]
    },
    {
     "name": "stderr",
     "output_type": "stream",
     "text": [
      "Epoch 199/200 Training: 100%|██████████| 14/14 [00:00<00:00, 200.24it/s, loss=0.000204]\n"
     ]
    },
    {
     "name": "stdout",
     "output_type": "stream",
     "text": [
      "Epoch 199/200 -- Train Loss: 0.000215, Test Loss: 0.000439\n"
     ]
    },
    {
     "name": "stderr",
     "output_type": "stream",
     "text": [
      "Epoch 200/200 Training: 100%|██████████| 14/14 [00:00<00:00, 223.77it/s, loss=0.000206]\n"
     ]
    },
    {
     "name": "stdout",
     "output_type": "stream",
     "text": [
      "Epoch 200/200 -- Train Loss: 0.000215, Test Loss: 0.000438\n"
     ]
    }
   ],
   "source": [
    "import torch\n",
    "import torch.nn as nn\n",
    "import torch.optim as optim\n",
    "from torch.utils.data import DataLoader\n",
    "from tqdm import tqdm  # progress bar\n",
    "\n",
    "# Assume WaterQualityDataset and WaterQualityCNN have been defined as shown earlier.\n",
    "# Replace 'water_dataset.mat' with the actual path to your .mat file.\n",
    "mat_file_path = 'water_dataset.mat'\n",
    "\n",
    "# Create dataset instances for training and testing\n",
    "train_dataset = WaterQualityDataset(mat_file_path, train=True)\n",
    "test_dataset  = WaterQualityDataset(mat_file_path, train=False)\n",
    "\n",
    "# Create DataLoader instances\n",
    "train_loader = DataLoader(train_dataset, batch_size=32, shuffle=True)\n",
    "test_loader  = DataLoader(test_dataset, batch_size=32, shuffle=False)\n",
    "\n",
    "# Device configuration: use GPU if available\n",
    "device = torch.device(\"cuda\" if torch.cuda.is_available() else \"cpu\")\n",
    "\n",
    "# Instantiate the CNN model, loss function, and optimizer\n",
    "model = WaterQualityCNN().to(device)\n",
    "criterion = nn.MSELoss()  # For regression tasks (predicting pH values)\n",
    "optimizer = optim.Adam(model.parameters(), lr=0.00008)\n",
    "\n",
    "# Define a learning rate scheduler that reduces lr when test loss has not decreased for 'patience' epochs\n",
    "scheduler = optim.lr_scheduler.ReduceLROnPlateau(optimizer, mode='min', factor=0.5, patience=10, verbose=True)\n",
    "\n",
    "# Set the number of epochs\n",
    "num_epochs = 200\n",
    "\n",
    "# Training loop with progress printing using tqdm\n",
    "for epoch in range(num_epochs):\n",
    "    model.train()\n",
    "    running_loss = 0.0\n",
    "    \n",
    "    # Use tqdm to create a progress bar for the training loop\n",
    "    pbar = tqdm(train_loader, desc=f\"Epoch {epoch+1}/{num_epochs} Training\", leave=True)\n",
    "    \n",
    "    for batch_x, batch_y in pbar:\n",
    "        batch_x = batch_x.to(device)  # shape: [batch_size, 1, 37, 12]\n",
    "        batch_y = batch_y.to(device)  # shape: [batch_size, 37]\n",
    "        \n",
    "        optimizer.zero_grad()  # Reset gradients\n",
    "        \n",
    "        # Forward pass\n",
    "        outputs = model(batch_x)  # Expected output shape: [batch_size, 37]\n",
    "        loss = criterion(outputs, batch_y)\n",
    "        \n",
    "        # Backward pass and optimization\n",
    "        loss.backward()\n",
    "        optimizer.step()\n",
    "        \n",
    "        running_loss += loss.item() * batch_x.size(0)\n",
    "        \n",
    "        # Update progress bar with current loss\n",
    "        pbar.set_postfix(loss=loss.item())\n",
    "    \n",
    "    epoch_loss = running_loss / len(train_dataset)\n",
    "    \n",
    "    # Evaluation phase on the test set\n",
    "    model.eval()\n",
    "    test_loss = 0.0\n",
    "    with torch.no_grad():\n",
    "        for batch_x, batch_y in test_loader:\n",
    "            batch_x = batch_x.to(device)\n",
    "            batch_y = batch_y.to(device)\n",
    "            outputs = model(batch_x)\n",
    "            loss = criterion(outputs, batch_y)\n",
    "            test_loss += loss.item() * batch_x.size(0)\n",
    "    test_loss /= len(test_dataset)\n",
    "    \n",
    "    # Update the learning rate scheduler based on test loss\n",
    "    scheduler.step(test_loss)\n",
    "    \n",
    "    print(f\"Epoch {epoch+1}/{num_epochs} -- Train Loss: {epoch_loss:.6f}, Test Loss: {test_loss:.6f}\")\n",
    "\n"
   ]
  },
  {
   "cell_type": "code",
   "execution_count": 188,
   "metadata": {},
   "outputs": [
    {
     "name": "stdout",
     "output_type": "stream",
     "text": [
      "Comparison for the first sample in the batch:\n",
      "Station  1: True = 0.6574, Predicted = 0.6503\n",
      "Station  2: True = 0.6389, Predicted = 0.6459\n",
      "Station  3: True = 0.6389, Predicted = 0.6448\n",
      "Station  4: True = 0.6574, Predicted = 0.6561\n",
      "Station  5: True = 0.6759, Predicted = 0.6602\n",
      "Station  6: True = 0.6389, Predicted = 0.6316\n",
      "Station  7: True = 0.6481, Predicted = 0.6456\n",
      "Station  8: True = 0.6667, Predicted = 0.6708\n",
      "Station  9: True = 0.6759, Predicted = 0.6944\n",
      "Station 10: True = 0.6667, Predicted = 0.6437\n",
      "Station 11: True = 0.6389, Predicted = 0.6470\n",
      "Station 12: True = 0.6574, Predicted = 0.6502\n",
      "Station 13: True = 0.6574, Predicted = 0.6556\n",
      "Station 14: True = 0.6389, Predicted = 0.6317\n",
      "Station 15: True = 0.6296, Predicted = 0.6301\n",
      "Station 16: True = 0.6481, Predicted = 0.6584\n",
      "Station 17: True = 0.6019, Predicted = 0.6403\n",
      "Station 18: True = 0.6204, Predicted = 0.6748\n",
      "Station 19: True = 0.6204, Predicted = 0.6641\n",
      "Station 20: True = 0.6389, Predicted = 0.6368\n",
      "Station 21: True = 0.6574, Predicted = 0.6658\n",
      "Station 22: True = 0.6296, Predicted = 0.6503\n",
      "Station 23: True = 0.5926, Predicted = 0.6184\n",
      "Station 24: True = 0.6389, Predicted = 0.6633\n",
      "Station 25: True = 0.6574, Predicted = 0.6280\n",
      "Station 26: True = 0.6667, Predicted = 0.6633\n",
      "Station 27: True = 0.6759, Predicted = 0.6577\n",
      "Station 28: True = 0.6667, Predicted = 0.6624\n",
      "Station 29: True = 0.6944, Predicted = 0.6937\n",
      "Station 30: True = 0.6389, Predicted = 0.6440\n",
      "Station 31: True = 0.6111, Predicted = 0.6758\n",
      "Station 32: True = 0.6574, Predicted = 0.6805\n",
      "Station 33: True = 0.6667, Predicted = 0.7215\n",
      "Station 34: True = 0.6481, Predicted = 0.6646\n",
      "Station 35: True = 0.6481, Predicted = 0.6713\n",
      "Station 36: True = 0.6759, Predicted = 0.6508\n",
      "Station 37: True = 0.6667, Predicted = 0.6552\n"
     ]
    },
    {
     "data": {
      "image/png": "[encoded data removed]",
      "text/plain": [
       "<Figure size 1000x500 with 1 Axes>"
      ]
     },
     "metadata": {},
     "output_type": "display_data"
    }
   ],
   "source": [
    "import matplotlib.pyplot as plt\n",
    "import numpy as np\n",
    "import random\n",
    "\n",
    "# Set model to evaluation mode\n",
    "model.eval()\n",
    "with torch.no_grad():\n",
    "    # Get one batch from the test loader\n",
    "    sample_x, sample_y =  random.choice(list(test_loader))\n",
    "    sample_x = sample_x.to(device)\n",
    "    sample_y = sample_y.to(device)\n",
    "    \n",
    "    # Get predictions from the model\n",
    "    predictions = model(sample_x)\n",
    "    \n",
    "    # Move tensors to CPU and convert to numpy arrays for easier handling\n",
    "    predictions_np = predictions.cpu().numpy()\n",
    "    true_np = sample_y.cpu().numpy()\n",
    "\n",
    "# Print true and predicted outputs for the first sample in the batch\n",
    "print(\"Comparison for the first sample in the batch:\")\n",
    "for station_idx in range(true_np.shape[1]):\n",
    "    true_val = true_np[0, station_idx]\n",
    "    pred_val = predictions_np[0, station_idx]\n",
    "    print(f\"Station {station_idx+1:2d}: True = {true_val:.4f}, Predicted = {pred_val:.4f}\")\n",
    "\n",
    "# Optionally, plot the true vs. predicted pH values for the first sample\n",
    "plt.figure(figsize=(10, 5))\n",
    "plt.plot(true_np[0], label=\"True\", marker='o')\n",
    "plt.plot(predictions_np[0], label=\"Predicted\", marker='x')\n",
    "plt.title(\"True vs Predicted water quality Values\")\n",
    "plt.xlabel(\"Station Index\")\n",
    "plt.ylabel(\"water quality\")\n",
    "plt.legend()\n",
    "plt.grid(True)\n",
    "plt.show()\n"
   ]
  },
  {
   "cell_type": "code",
   "execution_count": 1,
   "metadata": {},
   "outputs": [
    {
     "data": {
      "text/plain": [
       "6"
      ]
     },
     "execution_count": 1,
     "metadata": {},
     "output_type": "execute_result"
    }
   ],
   "source": [
    "6"
   ]
  }
 ],
 "metadata": {
  "kernelspec": {
   "display_name": "Python 3",
   "language": "python",
   "name": "python3"
  },
  "language_info": {
   "codemirror_mode": {
    "name": "ipython",
    "version": 3
   },
   "file_extension": ".py",
   "mimetype": "text/x-python",
   "name": "python",
   "nbconvert_exporter": "python",
   "pygments_lexer": "ipython3",
   "version": "3.10.11"
  }
 },
 "nbformat": 4,
 "nbformat_minor": 2
}
