{
 "cells": [
  {
   "cell_type": "code",
   "execution_count": 160,
   "metadata": {},
   "outputs": [],
   "source": [
    "import scipy.io\n",
    "import numpy as np\n",
    "import torch\n",
    "import torch.nn as nn\n",
    "import torch.nn.functional as F\n",
    "import torch.optim as optim\n",
    "from torch.utils.data import Dataset, DataLoader\n",
    "from tqdm import tqdm\n",
    "import matplotlib.pyplot as plt\n",
    "import random\n",
    "\n",
    "# ====================================================\n",
    "# 1. Base Dataset Definition (One Day per Sample)\n",
    "# ====================================================\n",
    "class WaterQualityDataset(Dataset):\n",
    "    def __init__(self, mat_file, train=True, transform=None):\n",
    "        \"\"\"\n",
    "        Args:\n",
    "            mat_file (str): Path to the .mat file containing the dataset.\n",
    "            train (bool): If True, load training data; otherwise load test data.\n",
    "            transform (callable, optional): Optional transform to be applied on a sample.\n",
    "        \"\"\"\n",
    "        data = scipy.io.loadmat(mat_file)\n",
    "        self.transform = transform\n",
    "\n",
    "        # Process location group information\n",
    "        location_group = data['location_group']  # shape: (1, 3)\n",
    "        location_ids = data['location_ids'].flatten()  # shape: (37,)\n",
    "        num_stations = len(location_ids)  # should be 37\n",
    "\n",
    "        # Create an array to store the group ID for each station\n",
    "        group_ids = np.zeros(num_stations, dtype=np.float32)\n",
    "        for i in range(location_group.shape[1]):\n",
    "            station_indices = location_group[0, i].flatten() - 1  # convert to 0-indexed\n",
    "            group_ids[station_indices] = i + 1  # assign group number (1, 2, 3)\n",
    "        self.group_ids = group_ids\n",
    "\n",
    "        # Load training or testing data based on flag\n",
    "        if train:\n",
    "            X_data = data['X_tr']  # shape: (1, num_train), each cell is 37x11\n",
    "            Y_data = data['Y_tr']  # shape: (37, num_train)\n",
    "        else:\n",
    "            X_data = data['X_te']  # shape: (1, num_test), each cell is 37x11\n",
    "            Y_data = data['Y_te']  # shape: (37, num_test)\n",
    "\n",
    "        # Convert cell arrays into lists for easier iteration\n",
    "        self.X_list = [X_data[0, i] for i in range(X_data.shape[1])]\n",
    "        self.Y_list = [Y_data[:, i] for i in range(Y_data.shape[1])]\n",
    "\n",
    "    def __len__(self):\n",
    "        return len(self.X_list)\n",
    "\n",
    "    def __getitem__(self, idx):\n",
    "        # Get input and target: X shape (37, 11), Y shape (37,)\n",
    "        x = self.X_list[idx]\n",
    "        y = self.Y_list[idx]\n",
    "\n",
    "        # Convert to torch tensors\n",
    "        x = torch.tensor(x, dtype=torch.float32)\n",
    "        y = torch.tensor(y, dtype=torch.float32)\n",
    "\n",
    "        # Build column vector of group IDs (shape: (37,) -> (37, 1))\n",
    "        group_col = torch.tensor(self.group_ids, dtype=torch.float32).unsqueeze(1)\n",
    "        # Concatenate group info to original features -> new shape (37, 12)\n",
    "        x = torch.cat((x, group_col), dim=1)\n",
    "        # Add channel dimension for CNN input -> final shape (1, 37, 12)\n",
    "        x = x.unsqueeze(0)\n",
    "\n",
    "        if self.transform:\n",
    "            x = self.transform(x)\n",
    "        return x, y\n",
    "\n",
    "# ====================================================\n",
    "# 2. Sequence Dataset Wrapper\n",
    "# ====================================================\n",
    "class WaterQualitySequenceDataset(Dataset):\n",
    "    def __init__(self, base_dataset, sequence_length=10):\n",
    "        \"\"\"\n",
    "        Args:\n",
    "            base_dataset: An instance of WaterQualityDataset (one day per sample).\n",
    "            sequence_length (int): Number of consecutive days per input sequence.\n",
    "        \"\"\"\n",
    "        self.base_dataset = base_dataset\n",
    "        self.sequence_length = sequence_length\n",
    "\n",
    "    def __len__(self):\n",
    "        # Number of sequences available is reduced by sequence_length - 1.\n",
    "        return len(self.base_dataset) - self.sequence_length + 1\n",
    "\n",
    "    def __getitem__(self, idx):\n",
    "        # Get a sequence from idx to idx + sequence_length - 1.\n",
    "        sequence = []\n",
    "        for i in range(self.sequence_length):\n",
    "            x, _ = self.base_dataset[idx + i]\n",
    "            sequence.append(x)\n",
    "        # Use the target from the last day as the sequence target.\n",
    "        _, target = self.base_dataset[idx + self.sequence_length - 1]\n",
    "        # Stack the sequence along a new dimension: shape becomes (sequence_length, 1, 37, 12)\n",
    "        sequence = torch.stack(sequence, dim=0)\n",
    "        return sequence, target\n",
    "\n",
    "# ====================================================\n",
    "# 3. CNN-LSTM Model Definition\n",
    "# ====================================================\n",
    "# CNN for spatial feature extraction\n",
    "class CNNFeatureExtractor(nn.Module):\n",
    "    def __init__(self, output_dim=128):\n",
    "        super(CNNFeatureExtractor, self).__init__()\n",
    "        # Input shape per day: (1, 37, 12)\n",
    "        self.conv1 = nn.Conv2d(in_channels=1, out_channels=16, kernel_size=3, padding=1)\n",
    "        self.bn1   = nn.BatchNorm2d(16)\n",
    "        self.conv2 = nn.Conv2d(in_channels=16, out_channels=32, kernel_size=3, padding=1)\n",
    "        self.bn2   = nn.BatchNorm2d(32)\n",
    "        # Adaptive pooling to reduce dimensions\n",
    "        self.pool = nn.AdaptiveAvgPool2d((8, 4))  # from 37x12 to 8x4\n",
    "        self.fc = nn.Linear(32 * 8 * 4, output_dim)\n",
    "    \n",
    "    def forward(self, x):\n",
    "        # x: (batch_size, 1, 37, 12)\n",
    "        x = F.relu(self.bn1(self.conv1(x)))  # -> (batch_size, 16, 37, 12)\n",
    "        x = F.relu(self.bn2(self.conv2(x)))  # -> (batch_size, 32, 37, 12)\n",
    "        x = self.pool(x)                     # -> (batch_size, 32, 8, 4)\n",
    "        x = x.view(x.size(0), -1)            # flatten -> (batch_size, 32*8*4)\n",
    "        x = self.fc(x)                       # -> (batch_size, output_dim)\n",
    "        return x\n",
    "\n",
    "# Hybrid CNN-LSTM Model for spatio-temporal prediction\n",
    "class CNNLSTMModel(nn.Module):\n",
    "    def __init__(self, cnn_feature_dim=128, lstm_hidden_dim=128, num_layers=1, output_dim=37):\n",
    "        super(CNNLSTMModel, self).__init__()\n",
    "        self.cnn = CNNFeatureExtractor(output_dim=cnn_feature_dim)\n",
    "        self.lstm = nn.LSTM(input_size=cnn_feature_dim, hidden_size=lstm_hidden_dim,\n",
    "                            num_layers=num_layers, batch_first=True)\n",
    "        self.fc = nn.Linear(lstm_hidden_dim, output_dim)\n",
    "    \n",
    "    def forward(self, x):\n",
    "        # x: (batch_size, sequence_length, 1, 37, 12)\n",
    "        batch_size, seq_len, C, H, W = x.shape\n",
    "        # Flatten sequence dimension for CNN processing:\n",
    "        x = x.view(batch_size * seq_len, C, H, W)  # -> (batch_size * seq_len, 1, 37, 12)\n",
    "        features = self.cnn(x)  # -> (batch_size * seq_len, cnn_feature_dim)\n",
    "        # Restore sequence dimension:\n",
    "        features = features.view(batch_size, seq_len, -1)  # -> (batch_size, seq_len, cnn_feature_dim)\n",
    "        lstm_out, _ = self.lstm(features)  # -> (batch_size, seq_len, lstm_hidden_dim)\n",
    "        # Use last time-step output:\n",
    "        last_output = lstm_out[:, -1, :]  # -> (batch_size, lstm_hidden_dim)\n",
    "        output = self.fc(last_output)     # -> (batch_size, output_dim)\n",
    "        return output\n",
    "\n",
    "# ====================================================\n",
    "# 4. Training and Evaluation Functions\n",
    "# ====================================================\n",
    "def train_one_epoch(model, train_loader, optimizer, criterion, device):\n",
    "    model.train()\n",
    "    running_loss = 0.0\n",
    "    pbar = tqdm(train_loader, desc=\"Training\", leave=False)\n",
    "    for batch_x, batch_y in pbar:\n",
    "        batch_x, batch_y = batch_x.to(device), batch_y.to(device)\n",
    "        optimizer.zero_grad()\n",
    "        outputs = model(batch_x)\n",
    "        loss = criterion(outputs, batch_y)\n",
    "        loss.backward()\n",
    "        optimizer.step()\n",
    "        running_loss += loss.item() * batch_x.size(0)\n",
    "        pbar.set_postfix(loss=f\"{loss.item():.6f}\")\n",
    "    return running_loss / len(train_loader.dataset)\n",
    "\n",
    "def evaluate_model(model, test_loader, criterion, device):\n",
    "    model.eval()\n",
    "    running_loss = 0.0\n",
    "    with torch.no_grad():\n",
    "        for batch_x, batch_y in test_loader:\n",
    "            batch_x, batch_y = batch_x.to(device), batch_y.to(device)\n",
    "            outputs = model(batch_x)\n",
    "            loss = criterion(outputs, batch_y)\n",
    "            running_loss += loss.item() * batch_x.size(0)\n",
    "    return running_loss / len(test_loader.dataset)\n",
    "\n",
    "def visualize_predictions(model, test_loader, device):\n",
    "    model.eval()\n",
    "    with torch.no_grad():\n",
    "        sample_x, sample_y = random.choice(list(test_loader))\n",
    "        sample_x = sample_x.to(device)\n",
    "        sample_y = sample_y.to(device)\n",
    "        predictions = model(sample_x)\n",
    "        predictions_np = predictions.cpu().numpy()\n",
    "        true_np = sample_y.cpu().numpy()\n",
    "    print(\"Comparison for the first sample in the batch:\")\n",
    "    for station_idx in range(true_np.shape[1]):\n",
    "        print(f\"Station {station_idx+1:2d}: True = {true_np[0, station_idx]:.4f}, Predicted = {predictions_np[0, station_idx]:.4f}\")\n",
    "    plt.figure(figsize=(10, 5))\n",
    "    plt.plot(true_np[0], label=\"True\", marker='o')\n",
    "    plt.plot(predictions_np[0], label=\"Predicted\", marker='x')\n",
    "    plt.title(\"True vs Predicted Water Quality Values\")\n",
    "    plt.xlabel(\"Station Index\")\n",
    "    plt.ylabel(\"Water Quality (pH)\")\n",
    "    plt.legend()\n",
    "    plt.grid(True)\n",
    "    plt.show()\n",
    "\n",
    "\n"
   ]
  },
  {
   "cell_type": "code",
   "execution_count": 161,
   "metadata": {},
   "outputs": [
    {
     "name": "stderr",
     "output_type": "stream",
     "text": [
      "                                                                           \r"
     ]
    },
    {
     "name": "stdout",
     "output_type": "stream",
     "text": [
      "Epoch 1/30 -- Train Loss: 0.00821631, Test Loss: 0.00068757, LR: 0.00100000\n"
     ]
    },
    {
     "name": "stderr",
     "output_type": "stream",
     "text": [
      "                                                                           \r"
     ]
    },
    {
     "name": "stdout",
     "output_type": "stream",
     "text": [
      "Epoch 2/30 -- Train Loss: 0.00053171, Test Loss: 0.00076000, LR: 0.00100000\n"
     ]
    },
    {
     "name": "stderr",
     "output_type": "stream",
     "text": [
      "                                                                           \r"
     ]
    },
    {
     "name": "stdout",
     "output_type": "stream",
     "text": [
      "Epoch 3/30 -- Train Loss: 0.00055434, Test Loss: 0.00062801, LR: 0.00100000\n"
     ]
    },
    {
     "name": "stderr",
     "output_type": "stream",
     "text": [
      "                                                                           \r"
     ]
    },
    {
     "name": "stdout",
     "output_type": "stream",
     "text": [
      "Epoch 4/30 -- Train Loss: 0.00054323, Test Loss: 0.00061242, LR: 0.00100000\n"
     ]
    },
    {
     "name": "stderr",
     "output_type": "stream",
     "text": [
      "                                                                           \r"
     ]
    },
    {
     "name": "stdout",
     "output_type": "stream",
     "text": [
      "Epoch 5/30 -- Train Loss: 0.00052786, Test Loss: 0.00094200, LR: 0.00100000\n"
     ]
    },
    {
     "name": "stderr",
     "output_type": "stream",
     "text": [
      "                                                                           \r"
     ]
    },
    {
     "name": "stdout",
     "output_type": "stream",
     "text": [
      "Epoch 6/30 -- Train Loss: 0.00052111, Test Loss: 0.00062083, LR: 0.00100000\n"
     ]
    },
    {
     "name": "stderr",
     "output_type": "stream",
     "text": [
      "                                                                           \r"
     ]
    },
    {
     "name": "stdout",
     "output_type": "stream",
     "text": [
      "Epoch 7/30 -- Train Loss: 0.00046295, Test Loss: 0.00076277, LR: 0.00100000\n"
     ]
    },
    {
     "name": "stderr",
     "output_type": "stream",
     "text": [
      "                                                                           \r"
     ]
    },
    {
     "name": "stdout",
     "output_type": "stream",
     "text": [
      "Epoch 8/30 -- Train Loss: 0.00048001, Test Loss: 0.00054934, LR: 0.00100000\n"
     ]
    },
    {
     "name": "stderr",
     "output_type": "stream",
     "text": [
      "                                                                           \r"
     ]
    },
    {
     "name": "stdout",
     "output_type": "stream",
     "text": [
      "Epoch 9/30 -- Train Loss: 0.00042175, Test Loss: 0.00062798, LR: 0.00100000\n"
     ]
    },
    {
     "name": "stderr",
     "output_type": "stream",
     "text": [
      "                                                                           \r"
     ]
    },
    {
     "name": "stdout",
     "output_type": "stream",
     "text": [
      "Epoch 10/30 -- Train Loss: 0.00040225, Test Loss: 0.00055315, LR: 0.00100000\n"
     ]
    },
    {
     "name": "stderr",
     "output_type": "stream",
     "text": [
      "                                                                           \r"
     ]
    },
    {
     "name": "stdout",
     "output_type": "stream",
     "text": [
      "Epoch 11/30 -- Train Loss: 0.00037803, Test Loss: 0.00064425, LR: 0.00100000\n"
     ]
    },
    {
     "name": "stderr",
     "output_type": "stream",
     "text": [
      "                                                                           \r"
     ]
    },
    {
     "name": "stdout",
     "output_type": "stream",
     "text": [
      "Epoch 12/30 -- Train Loss: 0.00036560, Test Loss: 0.00056764, LR: 0.00010000\n"
     ]
    },
    {
     "name": "stderr",
     "output_type": "stream",
     "text": [
      "                                                                           \r"
     ]
    },
    {
     "name": "stdout",
     "output_type": "stream",
     "text": [
      "Epoch 13/30 -- Train Loss: 0.00021301, Test Loss: 0.00045302, LR: 0.00010000\n"
     ]
    },
    {
     "name": "stderr",
     "output_type": "stream",
     "text": [
      "                                                                           \r"
     ]
    },
    {
     "name": "stdout",
     "output_type": "stream",
     "text": [
      "Epoch 14/30 -- Train Loss: 0.00019868, Test Loss: 0.00044109, LR: 0.00010000\n"
     ]
    },
    {
     "name": "stderr",
     "output_type": "stream",
     "text": [
      "                                                                           \r"
     ]
    },
    {
     "name": "stdout",
     "output_type": "stream",
     "text": [
      "Epoch 15/30 -- Train Loss: 0.00019812, Test Loss: 0.00046277, LR: 0.00010000\n"
     ]
    },
    {
     "name": "stderr",
     "output_type": "stream",
     "text": [
      "                                                                           \r"
     ]
    },
    {
     "name": "stdout",
     "output_type": "stream",
     "text": [
      "Epoch 16/30 -- Train Loss: 0.00019294, Test Loss: 0.00045848, LR: 0.00010000\n"
     ]
    },
    {
     "name": "stderr",
     "output_type": "stream",
     "text": [
      "                                                                           \r"
     ]
    },
    {
     "name": "stdout",
     "output_type": "stream",
     "text": [
      "Epoch 17/30 -- Train Loss: 0.00019082, Test Loss: 0.00042887, LR: 0.00010000\n"
     ]
    },
    {
     "name": "stderr",
     "output_type": "stream",
     "text": [
      "                                                                           \r"
     ]
    },
    {
     "name": "stdout",
     "output_type": "stream",
     "text": [
      "Epoch 18/30 -- Train Loss: 0.00018894, Test Loss: 0.00043513, LR: 0.00010000\n"
     ]
    },
    {
     "name": "stderr",
     "output_type": "stream",
     "text": [
      "                                                                           \r"
     ]
    },
    {
     "name": "stdout",
     "output_type": "stream",
     "text": [
      "Epoch 19/30 -- Train Loss: 0.00019324, Test Loss: 0.00042729, LR: 0.00010000\n"
     ]
    },
    {
     "name": "stderr",
     "output_type": "stream",
     "text": [
      "                                                                           \r"
     ]
    },
    {
     "name": "stdout",
     "output_type": "stream",
     "text": [
      "Epoch 20/30 -- Train Loss: 0.00019132, Test Loss: 0.00042922, LR: 0.00010000\n"
     ]
    },
    {
     "name": "stderr",
     "output_type": "stream",
     "text": [
      "                                                                           \r"
     ]
    },
    {
     "name": "stdout",
     "output_type": "stream",
     "text": [
      "Epoch 21/30 -- Train Loss: 0.00019204, Test Loss: 0.00043941, LR: 0.00010000\n"
     ]
    },
    {
     "name": "stderr",
     "output_type": "stream",
     "text": [
      "                                                                           \r"
     ]
    },
    {
     "name": "stdout",
     "output_type": "stream",
     "text": [
      "Epoch 22/30 -- Train Loss: 0.00019529, Test Loss: 0.00041763, LR: 0.00010000\n"
     ]
    },
    {
     "name": "stderr",
     "output_type": "stream",
     "text": [
      "                                                                           \r"
     ]
    },
    {
     "name": "stdout",
     "output_type": "stream",
     "text": [
      "Epoch 23/30 -- Train Loss: 0.00018487, Test Loss: 0.00043814, LR: 0.00010000\n"
     ]
    },
    {
     "name": "stderr",
     "output_type": "stream",
     "text": [
      "                                                                           \r"
     ]
    },
    {
     "name": "stdout",
     "output_type": "stream",
     "text": [
      "Epoch 24/30 -- Train Loss: 0.00018836, Test Loss: 0.00046205, LR: 0.00010000\n"
     ]
    },
    {
     "name": "stderr",
     "output_type": "stream",
     "text": [
      "                                                                           \r"
     ]
    },
    {
     "name": "stdout",
     "output_type": "stream",
     "text": [
      "Epoch 25/30 -- Train Loss: 0.00019049, Test Loss: 0.00043400, LR: 0.00010000\n"
     ]
    },
    {
     "name": "stderr",
     "output_type": "stream",
     "text": [
      "                                                                           \r"
     ]
    },
    {
     "name": "stdout",
     "output_type": "stream",
     "text": [
      "Epoch 26/30 -- Train Loss: 0.00018310, Test Loss: 0.00039111, LR: 0.00010000\n"
     ]
    },
    {
     "name": "stderr",
     "output_type": "stream",
     "text": [
      "                                                                           \r"
     ]
    },
    {
     "name": "stdout",
     "output_type": "stream",
     "text": [
      "Epoch 27/30 -- Train Loss: 0.00017931, Test Loss: 0.00041792, LR: 0.00010000\n"
     ]
    },
    {
     "name": "stderr",
     "output_type": "stream",
     "text": [
      "                                                                           \r"
     ]
    },
    {
     "name": "stdout",
     "output_type": "stream",
     "text": [
      "Epoch 28/30 -- Train Loss: 0.00018537, Test Loss: 0.00046052, LR: 0.00010000\n"
     ]
    },
    {
     "name": "stderr",
     "output_type": "stream",
     "text": [
      "                                                                           \r"
     ]
    },
    {
     "name": "stdout",
     "output_type": "stream",
     "text": [
      "Epoch 29/30 -- Train Loss: 0.00018256, Test Loss: 0.00042409, LR: 0.00010000\n"
     ]
    },
    {
     "name": "stderr",
     "output_type": "stream",
     "text": [
      "                                                                           \r"
     ]
    },
    {
     "name": "stdout",
     "output_type": "stream",
     "text": [
      "Epoch 30/30 -- Train Loss: 0.00018085, Test Loss: 0.00039973, LR: 0.00001000\n"
     ]
    }
   ],
   "source": [
    "# ====================================================\n",
    "# 5. Main Training Loop\n",
    "# ====================================================\n",
    "\n",
    "# File path for the dataset\n",
    "mat_file_path = 'water_dataset.mat'  # Replace with your actual file path\n",
    "\n",
    "batch_size = 2\n",
    "sequence_length = 10  # Number of consecutive days per input sequence\n",
    "\n",
    "# Create base datasets (one day per sample)\n",
    "base_train_dataset = WaterQualityDataset(mat_file_path, train=True)\n",
    "base_test_dataset  = WaterQualityDataset(mat_file_path, train=False)\n",
    "\n",
    "# Wrap base datasets into sequence datasets\n",
    "train_dataset = WaterQualitySequenceDataset(base_train_dataset, sequence_length=sequence_length)\n",
    "test_dataset  = WaterQualitySequenceDataset(base_test_dataset, sequence_length=sequence_length)\n",
    "\n",
    "train_loader = DataLoader(train_dataset, batch_size=batch_size, shuffle=True)\n",
    "test_loader  = DataLoader(test_dataset, batch_size=batch_size, shuffle=False)\n",
    "\n",
    "# Device configuration\n",
    "device = torch.device(\"cuda\" if torch.cuda.is_available() else \"cpu\")\n",
    "\n",
    "# Instantiate model, loss function, optimizer, and learning rate scheduler\n",
    "model = CNNLSTMModel().to(device)\n",
    "\n",
    "# You can use your preferred loss (e.g., MSELoss, SmoothL1Loss, or custom NRMSELoss)\n",
    "criterion = nn.MSELoss()  # or nn.SmoothL1Loss(), etc.\n",
    "optimizer = optim.Adam(model.parameters(), lr=0.001)\n",
    "scheduler = optim.lr_scheduler.ReduceLROnPlateau(optimizer, mode='min', factor=0.1, patience=3, verbose=True)\n",
    "\n",
    "num_epochs = 30\n",
    "for epoch in range(num_epochs):\n",
    "    train_loss = train_one_epoch(model, train_loader, optimizer, criterion, device)\n",
    "    test_loss = evaluate_model(model, test_loader, criterion, device)\n",
    "    scheduler.step(test_loss)\n",
    "    \n",
    "    # Get current learning rate (assuming one parameter group)\n",
    "    current_lr = optimizer.param_groups[0]['lr']\n",
    "    print(f\"Epoch {epoch+1}/{num_epochs} -- Train Loss: {train_loss:.8f}, Test Loss: {test_loss:.8f}, LR: {current_lr:.8f}\")\n",
    "\n",
    "\n",
    "\n"
   ]
  },
  {
   "cell_type": "code",
   "execution_count": 216,
   "metadata": {},
   "outputs": [
    {
     "name": "stdout",
     "output_type": "stream",
     "text": [
      "Comparison for the first sample in the batch:\n",
      "Station  1: True = 0.6574, Predicted = 0.6446\n",
      "Station  2: True = 0.6481, Predicted = 0.6560\n",
      "Station  3: True = 0.6389, Predicted = 0.6422\n",
      "Station  4: True = 0.6667, Predicted = 0.6505\n",
      "Station  5: True = 0.6759, Predicted = 0.6555\n",
      "Station  6: True = 0.6389, Predicted = 0.6465\n",
      "Station  7: True = 0.6481, Predicted = 0.6444\n",
      "Station  8: True = 0.6667, Predicted = 0.6726\n",
      "Station  9: True = 0.6944, Predicted = 0.6942\n",
      "Station 10: True = 0.6574, Predicted = 0.6310\n",
      "Station 11: True = 0.6481, Predicted = 0.6500\n",
      "Station 12: True = 0.6481, Predicted = 0.6502\n",
      "Station 13: True = 0.6667, Predicted = 0.6607\n",
      "Station 14: True = 0.6389, Predicted = 0.6321\n",
      "Station 15: True = 0.6481, Predicted = 0.6321\n",
      "Station 16: True = 0.6481, Predicted = 0.6562\n",
      "Station 17: True = 0.6204, Predicted = 0.6392\n",
      "Station 18: True = 0.6852, Predicted = 0.6760\n",
      "Station 19: True = 0.6667, Predicted = 0.6651\n",
      "Station 20: True = 0.6481, Predicted = 0.6338\n",
      "Station 21: True = 0.6574, Predicted = 0.6561\n",
      "Station 22: True = 0.6389, Predicted = 0.6489\n",
      "Station 23: True = 0.6204, Predicted = 0.6195\n",
      "Station 24: True = 0.6667, Predicted = 0.6630\n",
      "Station 25: True = 0.6667, Predicted = 0.6291\n",
      "Station 26: True = 0.6667, Predicted = 0.6696\n",
      "Station 27: True = 0.6667, Predicted = 0.6681\n",
      "Station 28: True = 0.6667, Predicted = 0.6738\n",
      "Station 29: True = 0.6852, Predicted = 0.6917\n",
      "Station 30: True = 0.6481, Predicted = 0.6544\n",
      "Station 31: True = 0.6574, Predicted = 0.6660\n",
      "Station 32: True = 0.6852, Predicted = 0.6813\n",
      "Station 33: True = 0.7130, Predicted = 0.7040\n",
      "Station 34: True = 0.6574, Predicted = 0.6664\n",
      "Station 35: True = 0.6481, Predicted = 0.6736\n",
      "Station 36: True = 0.6481, Predicted = 0.6468\n",
      "Station 37: True = 0.6667, Predicted = 0.6478\n"
     ]
    },
    {
     "data": {
      "image/png": "[encoded data removed]",
      "text/plain": [
       "<Figure size 1000x500 with 1 Axes>"
      ]
     },
     "metadata": {},
     "output_type": "display_data"
    }
   ],
   "source": [
    "\n",
    "# Visualize predictions after training\n",
    "visualize_predictions(model, test_loader, device)"
   ]
  }
 ],
 "metadata": {
  "kernelspec": {
   "display_name": "Python 3",
   "language": "python",
   "name": "python3"
  },
  "language_info": {
   "codemirror_mode": {
    "name": "ipython",
    "version": 3
   },
   "file_extension": ".py",
   "mimetype": "text/x-python",
   "name": "python",
   "nbconvert_exporter": "python",
   "pygments_lexer": "ipython3",
   "version": "3.10.11"
  }
 },
 "nbformat": 4,
 "nbformat_minor": 2
}
