{
 "cells": [
  {
   "cell_type": "code",
   "execution_count": 11,
   "metadata": {},
   "outputs": [],
   "source": [
    "import scipy.io\n",
    "import numpy as np\n",
    "import torch\n",
    "import torch.nn as nn\n",
    "import torch.nn.functional as F\n",
    "import torch.optim as optim\n",
    "from torch.utils.data import Dataset, DataLoader\n",
    "from tqdm import tqdm\n",
    "import matplotlib.pyplot as plt\n",
    "import random\n",
    "\n",
    "# ====================================================\n",
    "# 1. Base Dataset (One Day per Sample)\n",
    "# ====================================================\n",
    "class WaterQualityDataset(Dataset):\n",
    "    def __init__(self, mat_file, train=True, transform=None):\n",
    "        \"\"\"\n",
    "        Args:\n",
    "            mat_file (str): Path to the .mat file containing the dataset.\n",
    "            train (bool): If True, load training data; otherwise load test data.\n",
    "            transform (callable, optional): Optional transform to be applied on a sample.\n",
    "        \"\"\"\n",
    "        data = scipy.io.loadmat(mat_file)\n",
    "        self.transform = transform\n",
    "\n",
    "        # Process location group information (we won’t use it here so you may ignore it)\n",
    "        location_group = data['location_group']  # shape: (1, 3)\n",
    "        location_ids = data['location_ids'].flatten()  # shape: (37,)\n",
    "        num_stations = len(location_ids)  # should be 37\n",
    "\n",
    "        # Create an array to store the group ID for each station\n",
    "        group_ids = np.zeros(num_stations, dtype=np.float32)\n",
    "        for i in range(location_group.shape[1]):\n",
    "            station_indices = location_group[0, i].flatten() - 1  # convert to 0-indexed\n",
    "            group_ids[station_indices] = i + 1  # assign group number (1, 2, 3)\n",
    "        self.group_ids = group_ids  # not used in our location-level training below\n",
    "\n",
    "        # Load training or testing data based on flag\n",
    "        if train:\n",
    "            X_data = data['X_tr']  # shape: (1, num_train), each cell is 37x11\n",
    "            Y_data = data['Y_tr']  # shape: (37, num_train)\n",
    "        else:\n",
    "            X_data = data['X_te']  # shape: (1, num_test), each cell is 37x11\n",
    "            Y_data = data['Y_te']  # shape: (37, num_test)\n",
    "\n",
    "        # Convert cell arrays into lists for easier iteration\n",
    "        self.X_list = [X_data[0, i] for i in range(X_data.shape[1])]\n",
    "        self.Y_list = [Y_data[:, i] for i in range(Y_data.shape[1])]\n",
    "\n",
    "    def __len__(self):\n",
    "        return len(self.X_list)\n",
    "\n",
    "    def __getitem__(self, idx):\n",
    "        # Returns one day's data:\n",
    "        # x: shape (37, 11), y: shape (37,)\n",
    "        x = self.X_list[idx]\n",
    "        y = self.Y_list[idx]\n",
    "        x = torch.tensor(x, dtype=torch.float32)\n",
    "        y = torch.tensor(y, dtype=torch.float32)\n",
    "        # Optionally, if you want to add group info you could, but here we simply use the raw 11 features.\n",
    "        # x currently has shape (37, 11)\n",
    "        if self.transform:\n",
    "            x = self.transform(x)\n",
    "        return x, y\n",
    "\n",
    "# ====================================================\n",
    "# 2. Location-Level Dataset Wrapper\n",
    "# ====================================================\n",
    "class WaterQualityLocationDataset(Dataset):\n",
    "    def __init__(self, base_dataset):\n",
    "        \"\"\"\n",
    "        Wraps a WaterQualityDataset (one day per sample) and splits each day into 37 individual samples.\n",
    "        Each sample corresponds to one location.\n",
    "        \"\"\"\n",
    "        self.base_dataset = base_dataset\n",
    "        self.num_days = len(base_dataset)\n",
    "        self.num_locations = 37  # assuming always 37 locations\n",
    "\n",
    "    def __len__(self):\n",
    "        return self.num_days * self.num_locations\n",
    "\n",
    "    def __getitem__(self, idx):\n",
    "        # Map the overall index to a day and a location within that day.\n",
    "        day_idx = idx // self.num_locations\n",
    "        loc_idx = idx % self.num_locations\n",
    "        X_day, Y_day = self.base_dataset[day_idx]  # X_day: shape (37, 11), Y_day: shape (37,)\n",
    "        # Extract the location's features (use only the 11 features; ignore any appended group info)\n",
    "        x = X_day[loc_idx, :]  # shape: (11,)\n",
    "        y = Y_day[loc_idx]     # scalar\n",
    "        # Return day and location indices too (for later grouping in visualization)\n",
    "        return x, y, day_idx, loc_idx\n",
    "\n",
    "# ====================================================\n",
    "# 3. Simple MLP Model for Location-Level Prediction\n",
    "# ====================================================\n",
    "class DeepLocationMLP(nn.Module):\n",
    "    def __init__(self, input_dim=11, hidden_dims=[128,256,128], output_dim=1):\n",
    "        super(DeepLocationMLP, self).__init__()\n",
    "        layers = []\n",
    "        last_dim = input_dim\n",
    "        for h in hidden_dims:\n",
    "            layers.append(nn.Linear(last_dim, h))\n",
    "            layers.append(nn.ReLU())\n",
    "            last_dim = h\n",
    "        layers.append(nn.Linear(last_dim, output_dim))\n",
    "        self.net = nn.Sequential(*layers)\n",
    "    \n",
    "    def forward(self, x):\n",
    "        # x: (batch_size, 11)\n",
    "        return self.net(x)\n",
    "\n",
    "\n",
    "# ====================================================\n",
    "# 4. Training, Evaluation, and Visualization Functions\n",
    "# ====================================================\n",
    "def train_one_epoch(model, train_loader, optimizer, criterion, device):\n",
    "    model.train()\n",
    "    running_loss = 0.0\n",
    "    pbar = tqdm(train_loader, desc=\"Training\", leave=False)\n",
    "    for batch_x, batch_y, _, _ in pbar:\n",
    "        batch_x, batch_y = batch_x.to(device), batch_y.to(device)\n",
    "        optimizer.zero_grad()\n",
    "        outputs = model(batch_x).squeeze(1)  # shape: (batch_size,)\n",
    "        loss = criterion(outputs, batch_y)\n",
    "        loss.backward()\n",
    "        optimizer.step()\n",
    "        running_loss += loss.item() * batch_x.size(0)\n",
    "        pbar.set_postfix(loss=f\"{loss.item():.6f}\")\n",
    "    return running_loss / len(train_loader.dataset)\n",
    "\n",
    "def evaluate_model(model, test_loader, criterion, device):\n",
    "    model.eval()\n",
    "    running_loss = 0.0\n",
    "    with torch.no_grad():\n",
    "        for batch_x, batch_y, _, _ in test_loader:\n",
    "            batch_x, batch_y = batch_x.to(device), batch_y.to(device)\n",
    "            outputs = model(batch_x).squeeze(1)\n",
    "            loss = criterion(outputs, batch_y)\n",
    "            running_loss += loss.item() * batch_x.size(0)\n",
    "    return running_loss / len(test_loader.dataset)\n",
    "\n",
    "def visualize_day(model, dataset, device, day_index):\n",
    "    \"\"\"\n",
    "    Plots the predictions vs. true values for all locations in a given day.\n",
    "    \"\"\"\n",
    "    # Filter out samples belonging to the specified day_index.\n",
    "    # Since our dataset returns (x, y, day_idx, loc_idx), we can collect samples for day_index.\n",
    "    xs = []\n",
    "    ys = []\n",
    "    # Since the dataset is small, we can loop over it:\n",
    "    for i in range(len(dataset)):\n",
    "        x, y, d_idx, _ = dataset[i]\n",
    "        if d_idx == day_index:\n",
    "            xs.append(x.unsqueeze(0))\n",
    "            ys.append(torch.tensor([y]))\n",
    "    if not xs:\n",
    "        print(f\"No data found for day {day_index}\")\n",
    "        return\n",
    "    xs = torch.cat(xs, dim=0).to(device)  # shape: (37, 11)\n",
    "    with torch.no_grad():\n",
    "        predictions = model(xs)  # shape: (37, 1)\n",
    "    predictions = predictions.squeeze(1).cpu().numpy()\n",
    "    true_vals = torch.cat(ys, dim=0).squeeze().cpu().numpy()\n",
    "    \n",
    "    plt.figure(figsize=(10, 5))\n",
    "    plt.plot(true_vals, label=\"True\", marker='o')\n",
    "    plt.plot(predictions, label=\"Predicted\", marker='x')\n",
    "    plt.title(f\"True vs Predicted Water Quality for Day {day_index}\")\n",
    "    plt.xlabel(\"Location Index\")\n",
    "    plt.ylabel(\"Water Quality (pH)\")\n",
    "    plt.legend()\n",
    "    plt.grid(True)\n",
    "    plt.show()\n",
    "\n",
    "\n"
   ]
  },
  {
   "cell_type": "code",
   "execution_count": 12,
   "metadata": {},
   "outputs": [
    {
     "name": "stderr",
     "output_type": "stream",
     "text": [
      "                                                                           \r"
     ]
    },
    {
     "name": "stdout",
     "output_type": "stream",
     "text": [
      "Epoch 1/30 -- Train Loss: 0.00764792, Test Loss: 0.00026472, LR: 0.00100000\n"
     ]
    },
    {
     "name": "stderr",
     "output_type": "stream",
     "text": [
      "                                                                           \r"
     ]
    },
    {
     "name": "stdout",
     "output_type": "stream",
     "text": [
      "Epoch 2/30 -- Train Loss: 0.00022053, Test Loss: 0.00018982, LR: 0.00100000\n"
     ]
    },
    {
     "name": "stderr",
     "output_type": "stream",
     "text": [
      "                                                                           \r"
     ]
    },
    {
     "name": "stdout",
     "output_type": "stream",
     "text": [
      "Epoch 3/30 -- Train Loss: 0.00019272, Test Loss: 0.00021038, LR: 0.00100000\n"
     ]
    },
    {
     "name": "stderr",
     "output_type": "stream",
     "text": [
      "                                                                           \r"
     ]
    },
    {
     "name": "stdout",
     "output_type": "stream",
     "text": [
      "Epoch 4/30 -- Train Loss: 0.00019879, Test Loss: 0.00017274, LR: 0.00100000\n"
     ]
    },
    {
     "name": "stderr",
     "output_type": "stream",
     "text": [
      "                                                                           \r"
     ]
    },
    {
     "name": "stdout",
     "output_type": "stream",
     "text": [
      "Epoch 5/30 -- Train Loss: 0.00019094, Test Loss: 0.00017122, LR: 0.00100000\n"
     ]
    },
    {
     "name": "stderr",
     "output_type": "stream",
     "text": [
      "                                                                           \r"
     ]
    },
    {
     "name": "stdout",
     "output_type": "stream",
     "text": [
      "Epoch 6/30 -- Train Loss: 0.00017805, Test Loss: 0.00019400, LR: 0.00100000\n"
     ]
    },
    {
     "name": "stderr",
     "output_type": "stream",
     "text": [
      "                                                                           \r"
     ]
    },
    {
     "name": "stdout",
     "output_type": "stream",
     "text": [
      "Epoch 7/30 -- Train Loss: 0.00017862, Test Loss: 0.00015462, LR: 0.00100000\n"
     ]
    },
    {
     "name": "stderr",
     "output_type": "stream",
     "text": [
      "                                                                           \r"
     ]
    },
    {
     "name": "stdout",
     "output_type": "stream",
     "text": [
      "Epoch 8/30 -- Train Loss: 0.00017561, Test Loss: 0.00014647, LR: 0.00100000\n"
     ]
    },
    {
     "name": "stderr",
     "output_type": "stream",
     "text": [
      "                                                                           \r"
     ]
    },
    {
     "name": "stdout",
     "output_type": "stream",
     "text": [
      "Epoch 9/30 -- Train Loss: 0.00016725, Test Loss: 0.00019705, LR: 0.00100000\n"
     ]
    },
    {
     "name": "stderr",
     "output_type": "stream",
     "text": [
      "                                                                           \r"
     ]
    },
    {
     "name": "stdout",
     "output_type": "stream",
     "text": [
      "Epoch 10/30 -- Train Loss: 0.00016570, Test Loss: 0.00018127, LR: 0.00100000\n"
     ]
    },
    {
     "name": "stderr",
     "output_type": "stream",
     "text": [
      "                                                                           \r"
     ]
    },
    {
     "name": "stdout",
     "output_type": "stream",
     "text": [
      "Epoch 11/30 -- Train Loss: 0.00016351, Test Loss: 0.00013198, LR: 0.00100000\n"
     ]
    },
    {
     "name": "stderr",
     "output_type": "stream",
     "text": [
      "                                                                           \r"
     ]
    },
    {
     "name": "stdout",
     "output_type": "stream",
     "text": [
      "Epoch 12/30 -- Train Loss: 0.00015772, Test Loss: 0.00013215, LR: 0.00100000\n"
     ]
    },
    {
     "name": "stderr",
     "output_type": "stream",
     "text": [
      "                                                                           \r"
     ]
    },
    {
     "name": "stdout",
     "output_type": "stream",
     "text": [
      "Epoch 13/30 -- Train Loss: 0.00016162, Test Loss: 0.00012879, LR: 0.00100000\n"
     ]
    },
    {
     "name": "stderr",
     "output_type": "stream",
     "text": [
      "                                                                           \r"
     ]
    },
    {
     "name": "stdout",
     "output_type": "stream",
     "text": [
      "Epoch 14/30 -- Train Loss: 0.00016508, Test Loss: 0.00035334, LR: 0.00100000\n"
     ]
    },
    {
     "name": "stderr",
     "output_type": "stream",
     "text": [
      "                                                                           \r"
     ]
    },
    {
     "name": "stdout",
     "output_type": "stream",
     "text": [
      "Epoch 15/30 -- Train Loss: 0.00015974, Test Loss: 0.00016526, LR: 0.00100000\n"
     ]
    },
    {
     "name": "stderr",
     "output_type": "stream",
     "text": [
      "                                                                           \r"
     ]
    },
    {
     "name": "stdout",
     "output_type": "stream",
     "text": [
      "Epoch 16/30 -- Train Loss: 0.00016311, Test Loss: 0.00013545, LR: 0.00100000\n"
     ]
    },
    {
     "name": "stderr",
     "output_type": "stream",
     "text": [
      "                                                                           \r"
     ]
    },
    {
     "name": "stdout",
     "output_type": "stream",
     "text": [
      "Epoch 17/30 -- Train Loss: 0.00015612, Test Loss: 0.00013859, LR: 0.00010000\n"
     ]
    },
    {
     "name": "stderr",
     "output_type": "stream",
     "text": [
      "                                                                           \r"
     ]
    },
    {
     "name": "stdout",
     "output_type": "stream",
     "text": [
      "Epoch 18/30 -- Train Loss: 0.00012353, Test Loss: 0.00012571, LR: 0.00010000\n"
     ]
    },
    {
     "name": "stderr",
     "output_type": "stream",
     "text": [
      "                                                                           \r"
     ]
    },
    {
     "name": "stdout",
     "output_type": "stream",
     "text": [
      "Epoch 19/30 -- Train Loss: 0.00012381, Test Loss: 0.00012153, LR: 0.00010000\n"
     ]
    },
    {
     "name": "stderr",
     "output_type": "stream",
     "text": [
      "                                                                           \r"
     ]
    },
    {
     "name": "stdout",
     "output_type": "stream",
     "text": [
      "Epoch 20/30 -- Train Loss: 0.00012343, Test Loss: 0.00013117, LR: 0.00010000\n"
     ]
    },
    {
     "name": "stderr",
     "output_type": "stream",
     "text": [
      "                                                                           \r"
     ]
    },
    {
     "name": "stdout",
     "output_type": "stream",
     "text": [
      "Epoch 21/30 -- Train Loss: 0.00012336, Test Loss: 0.00012453, LR: 0.00010000\n"
     ]
    },
    {
     "name": "stderr",
     "output_type": "stream",
     "text": [
      "                                                                           \r"
     ]
    },
    {
     "name": "stdout",
     "output_type": "stream",
     "text": [
      "Epoch 22/30 -- Train Loss: 0.00012344, Test Loss: 0.00012297, LR: 0.00010000\n"
     ]
    },
    {
     "name": "stderr",
     "output_type": "stream",
     "text": [
      "                                                                           \r"
     ]
    },
    {
     "name": "stdout",
     "output_type": "stream",
     "text": [
      "Epoch 23/30 -- Train Loss: 0.00012266, Test Loss: 0.00012061, LR: 0.00010000\n"
     ]
    },
    {
     "name": "stderr",
     "output_type": "stream",
     "text": [
      "                                                                           \r"
     ]
    },
    {
     "name": "stdout",
     "output_type": "stream",
     "text": [
      "Epoch 24/30 -- Train Loss: 0.00012255, Test Loss: 0.00011824, LR: 0.00010000\n"
     ]
    },
    {
     "name": "stderr",
     "output_type": "stream",
     "text": [
      "                                                                           \r"
     ]
    },
    {
     "name": "stdout",
     "output_type": "stream",
     "text": [
      "Epoch 25/30 -- Train Loss: 0.00012277, Test Loss: 0.00011745, LR: 0.00010000\n"
     ]
    },
    {
     "name": "stderr",
     "output_type": "stream",
     "text": [
      "                                                                           \r"
     ]
    },
    {
     "name": "stdout",
     "output_type": "stream",
     "text": [
      "Epoch 26/30 -- Train Loss: 0.00012242, Test Loss: 0.00013364, LR: 0.00010000\n"
     ]
    },
    {
     "name": "stderr",
     "output_type": "stream",
     "text": [
      "                                                                           \r"
     ]
    },
    {
     "name": "stdout",
     "output_type": "stream",
     "text": [
      "Epoch 27/30 -- Train Loss: 0.00012168, Test Loss: 0.00013765, LR: 0.00010000\n"
     ]
    },
    {
     "name": "stderr",
     "output_type": "stream",
     "text": [
      "                                                                           \r"
     ]
    },
    {
     "name": "stdout",
     "output_type": "stream",
     "text": [
      "Epoch 28/30 -- Train Loss: 0.00012257, Test Loss: 0.00012189, LR: 0.00010000\n"
     ]
    },
    {
     "name": "stderr",
     "output_type": "stream",
     "text": [
      "                                                                           \r"
     ]
    },
    {
     "name": "stdout",
     "output_type": "stream",
     "text": [
      "Epoch 29/30 -- Train Loss: 0.00012058, Test Loss: 0.00011857, LR: 0.00001000\n"
     ]
    },
    {
     "name": "stderr",
     "output_type": "stream",
     "text": [
      "                                                                           \r"
     ]
    },
    {
     "name": "stdout",
     "output_type": "stream",
     "text": [
      "Epoch 30/30 -- Train Loss: 0.00011767, Test Loss: 0.00011810, LR: 0.00001000\n"
     ]
    }
   ],
   "source": [
    "# ====================================================\n",
    "# 5. Main Training Loop\n",
    "# ====================================================\n",
    "\n",
    "# File path for the dataset\n",
    "mat_file_path = 'water_dataset.mat'  # Replace with your actual file path\n",
    "\n",
    "batch_size = 16  # Adjust based on your dataset size\n",
    "# Create the base dataset (one day per sample)\n",
    "base_train_dataset = WaterQualityDataset(mat_file_path, train=True)\n",
    "base_test_dataset = WaterQualityDataset(mat_file_path, train=False)\n",
    "\n",
    "# Wrap the base datasets into location-level datasets (each sample is one location in one day)\n",
    "train_dataset = WaterQualityLocationDataset(base_train_dataset)\n",
    "test_dataset = WaterQualityLocationDataset(base_test_dataset)\n",
    "\n",
    "train_loader = DataLoader(train_dataset, batch_size=batch_size, shuffle=True)\n",
    "test_loader = DataLoader(test_dataset, batch_size=batch_size, shuffle=False)\n",
    "\n",
    "# Device configuration\n",
    "device = torch.device(\"cuda\" if torch.cuda.is_available() else \"cpu\")\n",
    "\n",
    "# Instantiate model, loss function, optimizer, and learning rate scheduler\n",
    "model =  model = DeepLocationMLP(hidden_dims=[64,64]).to(device)\n",
    "criterion = nn.MSELoss()  # You can also try SmoothL1Loss, etc.\n",
    "optimizer = optim.Adam(model.parameters(), lr=0.001)\n",
    "scheduler = optim.lr_scheduler.ReduceLROnPlateau(optimizer, mode='min', factor=0.1, patience=3, verbose=True)\n",
    "\n",
    "num_epochs = 30\n",
    "for epoch in range(num_epochs):\n",
    "    train_loss = train_one_epoch(model, train_loader, optimizer, criterion, device)\n",
    "    test_loss = evaluate_model(model, test_loader, criterion, device)\n",
    "    scheduler.step(test_loss)\n",
    "    \n",
    "    current_lr = optimizer.param_groups[0]['lr']\n",
    "    print(f\"Epoch {epoch+1}/{num_epochs} -- Train Loss: {train_loss:.8f}, Test Loss: {test_loss:.8f}, LR: {current_lr:.8f}\")\n",
    "\n",
    "\n",
    "\n"
   ]
  },
  {
   "cell_type": "code",
   "execution_count": 13,
   "metadata": {},
   "outputs": [],
   "source": [
    "def visualize_random_day(model, dataset, device):\n",
    "    \"\"\"\n",
    "    Randomly selects a day from the dataset and plots true vs. predicted values for all locations.\n",
    "    Args:\n",
    "        model: The trained model.\n",
    "        dataset: A WaterQualityLocationDataset instance.\n",
    "        device: The device (cpu or cuda).\n",
    "    \"\"\"\n",
    "    # Randomly choose a day index between 0 and num_days - 1\n",
    "    random_day = random.randint(0, dataset.num_days - 1)\n",
    "    print(f\"Visualizing results for random day: {random_day}\")\n",
    "    visualize_day(model, dataset, device, day_index=random_day)"
   ]
  },
  {
   "cell_type": "code",
   "execution_count": 40,
   "metadata": {},
   "outputs": [
    {
     "name": "stdout",
     "output_type": "stream",
     "text": [
      "Visualizing results for random day: 251\n"
     ]
    },
    {
     "data": {
      "image/png": "[encoded data removed]",
      "text/plain": [
       "<Figure size 1000x500 with 1 Axes>"
      ]
     },
     "metadata": {},
     "output_type": "display_data"
    }
   ],
   "source": [
    "visualize_random_day(model, test_dataset, device)"
   ]
  },
  {
   "cell_type": "code",
   "execution_count": 15,
   "metadata": {},
   "outputs": [
    {
     "name": "stdout",
     "output_type": "stream",
     "text": [
      "Test set results:\n",
      "  • RMSE : 0.010867\n",
      "  • NRMSE: 0.016411\n",
      "  • MAE  : 0.006208\n",
      "  • NMAE : 0.009374\n"
     ]
    }
   ],
   "source": [
    "import numpy as np\n",
    "\n",
    "# === 6. Evaluate on the *entire* test set ===\n",
    "model.eval()\n",
    "all_preds = []\n",
    "all_trues = []\n",
    "\n",
    "with torch.no_grad():\n",
    "    for batch_x, batch_y, _, _ in test_loader:\n",
    "        batch_x = batch_x.to(device)\n",
    "        preds = model(batch_x).squeeze(1).cpu().numpy()   # shape (batch_size,)\n",
    "        trues = batch_y.numpy()                          # shape (batch_size,)\n",
    "\n",
    "        all_preds.append(preds)\n",
    "        all_trues .append(trues)\n",
    "\n",
    "all_preds = np.concatenate(all_preds)    # shape (N,)\n",
    "all_trues = np.concatenate(all_trues)    # shape (N,)\n",
    "\n",
    "# mean squared error\n",
    "mse  = np.mean((all_preds - all_trues)**2)\n",
    "rmse = np.sqrt(mse)\n",
    "\n",
    "# mean absolute error\n",
    "mae  = np.mean(np.abs(all_preds - all_trues))\n",
    "\n",
    "# normalized by the mean of the ground truth\n",
    "mean_true = np.mean(all_trues)\n",
    "nrmse = rmse / mean_true\n",
    "nmae  = mae  / mean_true\n",
    "\n",
    "print(\"Test set results:\")\n",
    "print(f\"  • RMSE : {rmse:.6f}\")\n",
    "print(f\"  • NRMSE: {nrmse:.6f}\")\n",
    "print(f\"  • MAE  : {mae:.6f}\")\n",
    "print(f\"  • NMAE : {nmae:.6f}\")\n"
   ]
  }
 ],
 "metadata": {
  "kernelspec": {
   "display_name": "Python 3",
   "language": "python",
   "name": "python3"
  },
  "language_info": {
   "codemirror_mode": {
    "name": "ipython",
    "version": 3
   },
   "file_extension": ".py",
   "mimetype": "text/x-python",
   "name": "python",
   "nbconvert_exporter": "python",
   "pygments_lexer": "ipython3",
   "version": "3.10.11"
  }
 },
 "nbformat": 4,
 "nbformat_minor": 2
}
